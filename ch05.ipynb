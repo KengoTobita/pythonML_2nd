{
  "nbformat": 4,
  "nbformat_minor": 0,
  "metadata": {
    "colab": {
      "name": "ch05.ipynb",
      "version": "0.3.2",
      "provenance": [],
      "include_colab_link": true
    },
    "kernelspec": {
      "name": "python3",
      "display_name": "Python 3"
    }
  },
  "cells": [
    {
      "cell_type": "markdown",
      "metadata": {
        "id": "view-in-github",
        "colab_type": "text"
      },
      "source": [
        "<a href=\"https://colab.research.google.com/github/KengoTobita/pythonML_2nd/blob/master/ch05.ipynb\" target=\"_parent\"><img src=\"https://colab.research.google.com/assets/colab-badge.svg\" alt=\"Open In Colab\"/></a>"
      ]
    },
    {
      "cell_type": "code",
      "metadata": {
        "id": "i9k--Wkku6NP",
        "colab_type": "code",
        "outputId": "9107bad7-333d-434f-ccfb-8bf6d5ecac4d",
        "colab": {
          "base_uri": "https://localhost:8080/",
          "height": 221
        }
      },
      "source": [
        "import pandas as pd\n",
        "\n",
        "df_wine = pd.read_csv('https://archive.ics.uci.edu/ml/'\n",
        "                      'machine-learning-databases/wine/wine.data',\n",
        "                      header=None)\n",
        "\n",
        "df_wine.columns = ['Class label', 'Alcohol', 'Malic acid', 'Ash',\n",
        "                   'Alcalinity of ash', 'Magnesium', 'Total phenols',\n",
        "                   'Flavanoids', 'Nonflavanoid phenols', 'Proanthocyanins',\n",
        "                   'Color intensity', 'Hue',\n",
        "                   'OD280/OD315 of diluted wines', 'Proline']\n",
        "\n",
        "df_wine.head()"
      ],
      "execution_count": 0,
      "outputs": [
        {
          "output_type": "execute_result",
          "data": {
            "text/html": [
              "<div>\n",
              "<style scoped>\n",
              "    .dataframe tbody tr th:only-of-type {\n",
              "        vertical-align: middle;\n",
              "    }\n",
              "\n",
              "    .dataframe tbody tr th {\n",
              "        vertical-align: top;\n",
              "    }\n",
              "\n",
              "    .dataframe thead th {\n",
              "        text-align: right;\n",
              "    }\n",
              "</style>\n",
              "<table border=\"1\" class=\"dataframe\">\n",
              "  <thead>\n",
              "    <tr style=\"text-align: right;\">\n",
              "      <th></th>\n",
              "      <th>Class label</th>\n",
              "      <th>Alcohol</th>\n",
              "      <th>Malic acid</th>\n",
              "      <th>Ash</th>\n",
              "      <th>Alcalinity of ash</th>\n",
              "      <th>Magnesium</th>\n",
              "      <th>Total phenols</th>\n",
              "      <th>Flavanoids</th>\n",
              "      <th>Nonflavanoid phenols</th>\n",
              "      <th>Proanthocyanins</th>\n",
              "      <th>Color intensity</th>\n",
              "      <th>Hue</th>\n",
              "      <th>OD280/OD315 of diluted wines</th>\n",
              "      <th>Proline</th>\n",
              "    </tr>\n",
              "  </thead>\n",
              "  <tbody>\n",
              "    <tr>\n",
              "      <th>0</th>\n",
              "      <td>1</td>\n",
              "      <td>14.23</td>\n",
              "      <td>1.71</td>\n",
              "      <td>2.43</td>\n",
              "      <td>15.6</td>\n",
              "      <td>127</td>\n",
              "      <td>2.80</td>\n",
              "      <td>3.06</td>\n",
              "      <td>0.28</td>\n",
              "      <td>2.29</td>\n",
              "      <td>5.64</td>\n",
              "      <td>1.04</td>\n",
              "      <td>3.92</td>\n",
              "      <td>1065</td>\n",
              "    </tr>\n",
              "    <tr>\n",
              "      <th>1</th>\n",
              "      <td>1</td>\n",
              "      <td>13.20</td>\n",
              "      <td>1.78</td>\n",
              "      <td>2.14</td>\n",
              "      <td>11.2</td>\n",
              "      <td>100</td>\n",
              "      <td>2.65</td>\n",
              "      <td>2.76</td>\n",
              "      <td>0.26</td>\n",
              "      <td>1.28</td>\n",
              "      <td>4.38</td>\n",
              "      <td>1.05</td>\n",
              "      <td>3.40</td>\n",
              "      <td>1050</td>\n",
              "    </tr>\n",
              "    <tr>\n",
              "      <th>2</th>\n",
              "      <td>1</td>\n",
              "      <td>13.16</td>\n",
              "      <td>2.36</td>\n",
              "      <td>2.67</td>\n",
              "      <td>18.6</td>\n",
              "      <td>101</td>\n",
              "      <td>2.80</td>\n",
              "      <td>3.24</td>\n",
              "      <td>0.30</td>\n",
              "      <td>2.81</td>\n",
              "      <td>5.68</td>\n",
              "      <td>1.03</td>\n",
              "      <td>3.17</td>\n",
              "      <td>1185</td>\n",
              "    </tr>\n",
              "    <tr>\n",
              "      <th>3</th>\n",
              "      <td>1</td>\n",
              "      <td>14.37</td>\n",
              "      <td>1.95</td>\n",
              "      <td>2.50</td>\n",
              "      <td>16.8</td>\n",
              "      <td>113</td>\n",
              "      <td>3.85</td>\n",
              "      <td>3.49</td>\n",
              "      <td>0.24</td>\n",
              "      <td>2.18</td>\n",
              "      <td>7.80</td>\n",
              "      <td>0.86</td>\n",
              "      <td>3.45</td>\n",
              "      <td>1480</td>\n",
              "    </tr>\n",
              "    <tr>\n",
              "      <th>4</th>\n",
              "      <td>1</td>\n",
              "      <td>13.24</td>\n",
              "      <td>2.59</td>\n",
              "      <td>2.87</td>\n",
              "      <td>21.0</td>\n",
              "      <td>118</td>\n",
              "      <td>2.80</td>\n",
              "      <td>2.69</td>\n",
              "      <td>0.39</td>\n",
              "      <td>1.82</td>\n",
              "      <td>4.32</td>\n",
              "      <td>1.04</td>\n",
              "      <td>2.93</td>\n",
              "      <td>735</td>\n",
              "    </tr>\n",
              "  </tbody>\n",
              "</table>\n",
              "</div>"
            ],
            "text/plain": [
              "   Class label  Alcohol  ...  OD280/OD315 of diluted wines  Proline\n",
              "0            1    14.23  ...                          3.92     1065\n",
              "1            1    13.20  ...                          3.40     1050\n",
              "2            1    13.16  ...                          3.17     1185\n",
              "3            1    14.37  ...                          3.45     1480\n",
              "4            1    13.24  ...                          2.93      735\n",
              "\n",
              "[5 rows x 14 columns]"
            ]
          },
          "metadata": {
            "tags": []
          },
          "execution_count": 1
        }
      ]
    },
    {
      "cell_type": "code",
      "metadata": {
        "id": "bovBsRkkvFRy",
        "colab_type": "code",
        "colab": {}
      },
      "source": [
        "from sklearn.model_selection import train_test_split\n",
        "\n",
        "X, y = df_wine.iloc[:, 1:].values, df_wine.iloc[:, 0].values\n",
        "\n",
        "X_train, X_test, y_train, y_test = \\\n",
        "    train_test_split(X, y, test_size=0.3, \n",
        "                     stratify=y,\n",
        "                     random_state=0)"
      ],
      "execution_count": 0,
      "outputs": []
    },
    {
      "cell_type": "code",
      "metadata": {
        "id": "JxT7DddgvK_n",
        "colab_type": "code",
        "colab": {}
      },
      "source": [
        "from sklearn.preprocessing import StandardScaler\n",
        "\n",
        "sc = StandardScaler()\n",
        "X_train_std = sc.fit_transform(X_train)\n",
        "X_test_std = sc.transform(X_test)"
      ],
      "execution_count": 0,
      "outputs": []
    },
    {
      "cell_type": "markdown",
      "metadata": {
        "id": "UqG7tn5ZvdRM",
        "colab_type": "text"
      },
      "source": [
        "# 主成分を抽出する\n",
        "1. データを標準化。\n",
        "1. ①をもとに共分散行列を作成。\n",
        "1. 共分散行列の固有ベクトルと固有値に分解する。\n",
        "1. 固有値を降順にソートする事で、固有値のベクトルをランク付けする。\n",
        "\n",
        "### np.cov\n",
        "共分散を出してくれる。\n",
        "### np.linalg.eig\n",
        "固有値や固有ベクトルを求めたい時に使用。<br>\n",
        "入力は配列、出力は**固有値を含んだ配列**と**行列の固有ベクトル**です。"
      ]
    },
    {
      "cell_type": "code",
      "metadata": {
        "id": "fOFp-J7hvO_p",
        "colab_type": "code",
        "outputId": "c519ffd1-78be-4c76-f4a2-f2ba64bec113",
        "colab": {
          "base_uri": "https://localhost:8080/",
          "height": 102
        }
      },
      "source": [
        "import numpy as np\n",
        "cov_mat = np.cov(X_train_std.T)\n",
        "eigen_vals, eigen_vecs = np.linalg.eig(cov_mat)\n",
        "\n",
        "print('\\nEigenvalues \\n%s' % eigen_vals)"
      ],
      "execution_count": 0,
      "outputs": [
        {
          "output_type": "stream",
          "text": [
            "\n",
            "Eigenvalues \n",
            "[4.84274532 2.41602459 1.54845825 0.96120438 0.84166161 0.6620634\n",
            " 0.51828472 0.34650377 0.3131368  0.10754642 0.21357215 0.15362835\n",
            " 0.1808613 ]\n"
          ],
          "name": "stdout"
        }
      ]
    },
    {
      "cell_type": "markdown",
      "metadata": {
        "id": "SJhp-dFZ98V9",
        "colab_type": "text"
      },
      "source": [
        "#### [sorted ](https://docs.python.org/ja/3/howto/sorting.html)\n",
        "昇順で並び替える。<br>\n",
        "reverse = True で降順に変更することが可能です。"
      ]
    },
    {
      "cell_type": "code",
      "metadata": {
        "id": "tgebjFS_-jxN",
        "colab_type": "code",
        "outputId": "efbe8dbb-e87c-4a09-b3ba-ab0ce28b5886",
        "colab": {
          "base_uri": "https://localhost:8080/",
          "height": 68
        }
      },
      "source": [
        "import random \n",
        "\n",
        "sort_list = [random.randint(1,9) for i in range(10)]\n",
        "print(\"raw data is ... \", sort_list)\n",
        "print(\"sorted data is ... \", sorted(sort_list))\n",
        "print(\"sorted data is ... \", sorted(sort_list, reverse=True))"
      ],
      "execution_count": 0,
      "outputs": [
        {
          "output_type": "stream",
          "text": [
            "raw data is ...  [3, 7, 6, 9, 1, 8, 9, 5, 6, 7]\n",
            "sorted data is ...  [1, 3, 5, 6, 6, 7, 7, 8, 9, 9]\n",
            "sorted data is ...  [9, 9, 8, 7, 7, 6, 6, 5, 3, 1]\n"
          ],
          "name": "stdout"
        }
      ]
    },
    {
      "cell_type": "markdown",
      "metadata": {
        "id": "lYKjlLJl_8s8",
        "colab_type": "text"
      },
      "source": [
        "#### [sumsum](https://docs.scipy.org/doc/numpy-1.15.1/reference/generated/numpy.cumsum.html)\n",
        " 累積和を出してくれる。numpy以外にもpandasでもできる。"
      ]
    },
    {
      "cell_type": "code",
      "metadata": {
        "id": "xfGnnztc-S5n",
        "colab_type": "code",
        "outputId": "dff2c91f-d6e9-4954-9806-d603f398a37a",
        "colab": {
          "base_uri": "https://localhost:8080/",
          "height": 51
        }
      },
      "source": [
        "cumsum_list = [i for i in range(10)]\n",
        "\n",
        "print(\"raw data is ... \", cumsum_list)\n",
        "print(\"sumsum data is ... \", np.cumsum(cumsum_list))"
      ],
      "execution_count": 0,
      "outputs": [
        {
          "output_type": "stream",
          "text": [
            "raw data is ...  [0, 1, 2, 3, 4, 5, 6, 7, 8, 9]\n",
            "sumsum data is ...  [ 0  1  3  6 10 15 21 28 36 45]\n"
          ],
          "name": "stdout"
        }
      ]
    },
    {
      "cell_type": "markdown",
      "metadata": {
        "id": "UsTN17SY68uN",
        "colab_type": "text"
      },
      "source": [
        "# 5.1.3 全分散と説明分散\n",
        "ここではデータに含まれる大半の情報(分散)を含んでいる、<br>\n",
        "固有ベクトル(主成分)だけを選択したい。 <br>\n",
        "<br>\n",
        "固有値は固有ベクトルの大きさを表すので大きな物からソートする必要がある。<br>\n",
        "\n",
        "$$\n",
        "\\frac{\\lambda_j}{\\sum_{j=1}^d \\lambda_j}\n",
        "$$\n"
      ]
    },
    {
      "cell_type": "code",
      "metadata": {
        "id": "iLYXByxavn83",
        "colab_type": "code",
        "colab": {}
      },
      "source": [
        "tot = sum(eigen_vals)\n",
        "var_exp = [(i / tot) for i in sorted(eigen_vals, reverse=True)]\n",
        "cum_var_exp = np.cumsum(var_exp)"
      ],
      "execution_count": 0,
      "outputs": []
    },
    {
      "cell_type": "code",
      "metadata": {
        "id": "ja6Lgix2vrSo",
        "colab_type": "code",
        "outputId": "2b665d03-94a0-46c4-f5be-537660c11f81",
        "colab": {
          "base_uri": "https://localhost:8080/",
          "height": 297
        }
      },
      "source": [
        "import matplotlib.pyplot as plt\n",
        "\n",
        "\n",
        "plt.bar(range(1, 14), var_exp, alpha=0.5, align='center',\n",
        "        label='individual explained variance')\n",
        "plt.step(range(1, 14), cum_var_exp, where='mid',\n",
        "         label='cumulative explained variance')\n",
        "plt.ylabel('Explained variance ratio')\n",
        "plt.xlabel('Principal component index')\n",
        "plt.legend(loc='best')\n",
        "plt.tight_layout()\n",
        "# plt.savefig('images/05_02.png', dpi=300)\n",
        "plt.show()"
      ],
      "execution_count": 0,
      "outputs": [
        {
          "output_type": "display_data",
          "data": {
            "image/png": "[encoded data removed]",
            "text/plain": [
              "<Figure size 432x288 with 1 Axes>"
            ]
          },
          "metadata": {
            "tags": []
          }
        }
      ]
    },
    {
      "cell_type": "markdown",
      "metadata": {
        "id": "NJM4H9WCD6zb",
        "colab_type": "text"
      },
      "source": [
        "# 5.1.4  特徴変換\n",
        "1. 最も大きい$k$個の固有値に対応する$k$個の固有ベクトルを選択する。\n",
        "1. 上位$k$個の固有ベクトルから射影行列$W$を作成する。\n",
        "1. 射影行列$W$を使用して$d$次元の入力データセット$X$を変換し、 <br>\n",
        "新しい$k$次元の特徴量空間を取得する。\n",
        "\n",
        "#### np.abs\n",
        "絶対値を出してくれる。\n",
        "\n",
        "#### np.sorted のlambda\n"
      ]
    },
    {
      "cell_type": "code",
      "metadata": {
        "id": "ea-322jGH7du",
        "colab_type": "code",
        "outputId": "a57a3500-4741-49e2-a47e-4bc861f556d6",
        "colab": {
          "base_uri": "https://localhost:8080/",
          "height": 51
        }
      },
      "source": [
        "tmp = [i for i in range(10)]\n",
        "print(tmp)\n",
        "\n",
        "tmp = map(lambda x : x*10, tmp)\n",
        "print(list(tmp))"
      ],
      "execution_count": 0,
      "outputs": [
        {
          "output_type": "stream",
          "text": [
            "[0, 1, 2, 3, 4, 5, 6, 7, 8, 9]\n",
            "[0, 10, 20, 30, 40, 50, 60, 70, 80, 90]\n"
          ],
          "name": "stdout"
        }
      ]
    },
    {
      "cell_type": "code",
      "metadata": {
        "id": "HEmV6vbvKz_B",
        "colab_type": "code",
        "outputId": "c0c7643f-0a90-4adc-dab5-5521f78651fa",
        "colab": {
          "base_uri": "https://localhost:8080/",
          "height": 85
        }
      },
      "source": [
        "a = [i for i in \"abcdefghif\"]\n",
        "b = [i for i in range(9,0,-1)]\n",
        "\n",
        "tmp = [(v,k) for k,v in zip(a,b)]\n",
        "print(tmp)\n",
        "\n",
        "print(\"tmp[0][0] is ... \", tmp[0][0])\n",
        "\n",
        "print(sorted(tmp))\n",
        "print(sorted(tmp, key=lambda k:k[1]))"
      ],
      "execution_count": 0,
      "outputs": [
        {
          "output_type": "stream",
          "text": [
            "[(9, 'a'), (8, 'b'), (7, 'c'), (6, 'd'), (5, 'e'), (4, 'f'), (3, 'g'), (2, 'h'), (1, 'i')]\n",
            "tmp[0][0] is ...  9\n",
            "[(1, 'i'), (2, 'h'), (3, 'g'), (4, 'f'), (5, 'e'), (6, 'd'), (7, 'c'), (8, 'b'), (9, 'a')]\n",
            "[(9, 'a'), (8, 'b'), (7, 'c'), (6, 'd'), (5, 'e'), (4, 'f'), (3, 'g'), (2, 'h'), (1, 'i')]\n"
          ],
          "name": "stdout"
        }
      ]
    },
    {
      "cell_type": "markdown",
      "metadata": {
        "id": "PHl-2kigBnT5",
        "colab_type": "text"
      },
      "source": [
        "#### np.hstack \n",
        "numpy.arrayやnumpy.ndarrayは`+`などの演算子で結合することが出来ません。<bR>\n",
        "結合するにはコレを使いましょう"
      ]
    },
    {
      "cell_type": "code",
      "metadata": {
        "id": "22LbnILcCoHe",
        "colab_type": "code",
        "outputId": "94bfb041-c216-4d05-97f7-7dfca11479fd",
        "colab": {
          "base_uri": "https://localhost:8080/",
          "height": 238
        }
      },
      "source": [
        "import numpy as np\n",
        "\n",
        "a = np.array([i for i in range(10)])\n",
        "b = np.array([i for i in range(11,13)])\n",
        "\n",
        "print(np.hstack((a,b)))\n",
        "\n",
        "# ======vstackもあるYO！=========\n",
        "a = a.reshape(-1,1)\n",
        "b = b.reshape(-1,1)\n",
        "\n",
        "print(np.vstack((a,b)))"
      ],
      "execution_count": 0,
      "outputs": [
        {
          "output_type": "stream",
          "text": [
            "[ 0  1  2  3  4  5  6  7  8  9 11 12]\n",
            "[[ 0]\n",
            " [ 1]\n",
            " [ 2]\n",
            " [ 3]\n",
            " [ 4]\n",
            " [ 5]\n",
            " [ 6]\n",
            " [ 7]\n",
            " [ 8]\n",
            " [ 9]\n",
            " [11]\n",
            " [12]]\n"
          ],
          "name": "stdout"
        }
      ]
    },
    {
      "cell_type": "markdown",
      "metadata": {
        "id": "eBp36rBwE9ZD",
        "colab_type": "text"
      },
      "source": [
        "#### numpy.newaxis\n",
        "\n",
        "numpy.array に新たな軸を追加することが出来る。"
      ]
    },
    {
      "cell_type": "code",
      "metadata": {
        "id": "M3f_9nQDFnVu",
        "colab_type": "code",
        "outputId": "3473c7ba-d0dc-4f03-b7ac-aa8f76e35b72",
        "colab": {
          "base_uri": "https://localhost:8080/",
          "height": 204
        }
      },
      "source": [
        "import numpy as np\n",
        "\n",
        "a = np.array([i for i in range(15)])\n",
        "a = a.reshape(5,3)\n",
        "print(a, a.shape)\n",
        "\n",
        "print(\"=\"*50)\n",
        "\n",
        "print(a[np.newaxis,:,:], a[np.newaxis,:,:].shape)\n"
      ],
      "execution_count": 0,
      "outputs": [
        {
          "output_type": "stream",
          "text": [
            "[[ 0  1  2]\n",
            " [ 3  4  5]\n",
            " [ 6  7  8]\n",
            " [ 9 10 11]\n",
            " [12 13 14]] (5, 3)\n",
            "==================================================\n",
            "[[[ 0  1  2]\n",
            "  [ 3  4  5]\n",
            "  [ 6  7  8]\n",
            "  [ 9 10 11]\n",
            "  [12 13 14]]] (1, 5, 3)\n"
          ],
          "name": "stdout"
        }
      ]
    },
    {
      "cell_type": "markdown",
      "metadata": {
        "id": "pt-np5QQ_0_B",
        "colab_type": "text"
      },
      "source": [
        "****"
      ]
    },
    {
      "cell_type": "code",
      "metadata": {
        "id": "QhMKbOyJvu9N",
        "colab_type": "code",
        "colab": {}
      },
      "source": [
        "# (固有値、固有ベクトル)のタプルリストを作成\n",
        "\n",
        "eigen_pairs = [(np.abs(eigen_vals[i]), eigen_vecs[:, i])\n",
        "               for i in range(len(eigen_vals))]\n",
        "\n",
        "#  (固有値、固有ベクトル)をタプルの大きい物から順に並び変え\n",
        "eigen_pairs.sort(key=lambda k: k[0], reverse=True)"
      ],
      "execution_count": 0,
      "outputs": []
    },
    {
      "cell_type": "markdown",
      "metadata": {
        "id": "APMkWa3BJoeb",
        "colab_type": "text"
      },
      "source": [
        "射影行列$W$爆誕 "
      ]
    },
    {
      "cell_type": "code",
      "metadata": {
        "id": "Tjem2xrov0XO",
        "colab_type": "code",
        "outputId": "3b608788-87f0-4b3c-d1f4-351b1bde46d4",
        "colab": {
          "base_uri": "https://localhost:8080/",
          "height": 272
        }
      },
      "source": [
        "w = np.hstack((eigen_pairs[0][1][:, np.newaxis],\n",
        "               eigen_pairs[1][1][:, np.newaxis]))\n",
        "print('Matrix W:\\n', w, \n",
        "      \"\\n\", w.shape)"
      ],
      "execution_count": 0,
      "outputs": [
        {
          "output_type": "stream",
          "text": [
            "Matrix W:\n",
            " [[-0.13724218  0.50303478]\n",
            " [ 0.24724326  0.16487119]\n",
            " [-0.02545159  0.24456476]\n",
            " [ 0.20694508 -0.11352904]\n",
            " [-0.15436582  0.28974518]\n",
            " [-0.39376952  0.05080104]\n",
            " [-0.41735106 -0.02287338]\n",
            " [ 0.30572896  0.09048885]\n",
            " [-0.30668347  0.00835233]\n",
            " [ 0.07554066  0.54977581]\n",
            " [-0.32613263 -0.20716433]\n",
            " [-0.36861022 -0.24902536]\n",
            " [-0.29669651  0.38022942]] \n",
            " (13, 2)\n"
          ],
          "name": "stdout"
        }
      ]
    },
    {
      "cell_type": "markdown",
      "metadata": {
        "id": "_PC7gGOzK5ZS",
        "colab_type": "text"
      },
      "source": [
        "試しにサンプル1つを使用し、新しい特徴量を作成しよう。\n",
        "$$\n",
        "x' = xW\n",
        "$$"
      ]
    },
    {
      "cell_type": "code",
      "metadata": {
        "id": "RYb-u39Rv75w",
        "colab_type": "code",
        "outputId": "3e7a14b8-9a56-42c0-c345-5225927d9f07",
        "colab": {
          "base_uri": "https://localhost:8080/",
          "height": 34
        }
      },
      "source": [
        "X_train_std[0].dot(w)"
      ],
      "execution_count": 0,
      "outputs": [
        {
          "output_type": "execute_result",
          "data": {
            "text/plain": [
              "array([2.38299011, 0.45458499])"
            ]
          },
          "metadata": {
            "tags": []
          },
          "execution_count": 15
        }
      ]
    },
    {
      "cell_type": "markdown",
      "metadata": {
        "id": "pEy1qPk2LgMh",
        "colab_type": "text"
      },
      "source": [
        "同様に行列の内積を計算して、トレーニングセット全体を変換する事ができる。"
      ]
    },
    {
      "cell_type": "code",
      "metadata": {
        "id": "30v5XgluLtwx",
        "colab_type": "code",
        "colab": {}
      },
      "source": [
        "X_train_pca = X_train_std.dot(w)"
      ],
      "execution_count": 0,
      "outputs": []
    },
    {
      "cell_type": "code",
      "metadata": {
        "id": "l9iIyot3v_UW",
        "colab_type": "code",
        "outputId": "78c4d928-5e7a-44f1-f475-6830f8232044",
        "colab": {
          "base_uri": "https://localhost:8080/",
          "height": 297
        }
      },
      "source": [
        "X_train_pca = X_train_std.dot(w)\n",
        "colors = ['r', 'b', 'g']\n",
        "markers = ['s', 'x', 'o']\n",
        "\n",
        "for l, c, m in zip(np.unique(y_train), colors, markers):\n",
        "    plt.scatter(X_train_pca[y_train == l, 0], \n",
        "                X_train_pca[y_train == l, 1], \n",
        "                c=c, label=l, marker=m)\n",
        "\n",
        "plt.xlabel('PC 1')\n",
        "plt.ylabel('PC 2')\n",
        "plt.legend(loc='lower left')\n",
        "plt.tight_layout()\n",
        "# plt.savefig('images/05_03.png', dpi=300)\n",
        "plt.show()"
      ],
      "execution_count": 0,
      "outputs": [
        {
          "output_type": "display_data",
          "data": {
            "image/png": "[encoded data removed]",
            "text/plain": [
              "<Figure size 432x288 with 1 Axes>"
            ]
          },
          "metadata": {
            "tags": []
          }
        }
      ]
    },
    {
      "cell_type": "markdown",
      "metadata": {
        "id": "1YhDVGHRwH8P",
        "colab_type": "text"
      },
      "source": [
        "# Scikit-learnでの実装\n",
        "\n",
        "## pca.components_\n",
        "第一主成分、第二主成分の基底ベクトルの具体的な値を見る\n",
        "\n",
        "## pca.explained_variance_ratio_\n",
        "説明率を出してくれる。"
      ]
    },
    {
      "cell_type": "code",
      "metadata": {
        "id": "1xszfkV1wDzY",
        "colab_type": "code",
        "outputId": "228386c9-38c1-4889-ade0-aad75933db05",
        "colab": {
          "base_uri": "https://localhost:8080/",
          "height": 68
        }
      },
      "source": [
        "from sklearn.decomposition import PCA\n",
        "\n",
        "pca = PCA()\n",
        "X_train_pca = pca.fit_transform(X_train_std)\n",
        "pca.explained_variance_ratio_"
      ],
      "execution_count": 0,
      "outputs": [
        {
          "output_type": "execute_result",
          "data": {
            "text/plain": [
              "array([0.36951469, 0.18434927, 0.11815159, 0.07334252, 0.06422108,\n",
              "       0.05051724, 0.03954654, 0.02643918, 0.02389319, 0.01629614,\n",
              "       0.01380021, 0.01172226, 0.00820609])"
            ]
          },
          "metadata": {
            "tags": []
          },
          "execution_count": 18
        }
      ]
    },
    {
      "cell_type": "code",
      "metadata": {
        "id": "P1co5BZfwOkC",
        "colab_type": "code",
        "outputId": "a22c09e6-938e-4b6f-8066-d3680bc97203",
        "colab": {
          "base_uri": "https://localhost:8080/",
          "height": 283
        }
      },
      "source": [
        "plt.bar(range(1, 14), pca.explained_variance_ratio_, alpha=0.5, align='center')\n",
        "plt.step(range(1, 14), np.cumsum(pca.explained_variance_ratio_), where='mid')\n",
        "plt.ylabel('Explained variance ratio')\n",
        "plt.xlabel('Principal components')\n",
        "\n",
        "plt.show()"
      ],
      "execution_count": 0,
      "outputs": [
        {
          "output_type": "display_data",
          "data": {
            "image/png": "[encoded data removed]",
            "text/plain": [
              "<Figure size 432x288 with 1 Axes>"
            ]
          },
          "metadata": {
            "tags": []
          }
        }
      ]
    },
    {
      "cell_type": "code",
      "metadata": {
        "id": "xxHlDsHZwR2L",
        "colab_type": "code",
        "colab": {}
      },
      "source": [
        "pca = PCA(n_components=2)\n",
        "X_train_pca = pca.fit_transform(X_train_std)\n",
        "X_test_pca = pca.transform(X_test_std)"
      ],
      "execution_count": 0,
      "outputs": []
    },
    {
      "cell_type": "code",
      "metadata": {
        "id": "BeoY5KHOwX4v",
        "colab_type": "code",
        "outputId": "be7cb00f-62c0-4c07-b8e3-1ef60d203ce9",
        "colab": {
          "base_uri": "https://localhost:8080/",
          "height": 283
        }
      },
      "source": [
        "plt.scatter(X_train_pca[:, 0], X_train_pca[:, 1])\n",
        "plt.xlabel('PC 1')\n",
        "plt.ylabel('PC 2')\n",
        "plt.show()"
      ],
      "execution_count": 0,
      "outputs": [
        {
          "output_type": "display_data",
          "data": {
            "image/png": "[encoded data removed]",
            "text/plain": [
              "<Figure size 432x288 with 1 Axes>"
            ]
          },
          "metadata": {
            "tags": []
          }
        }
      ]
    },
    {
      "cell_type": "markdown",
      "metadata": {
        "id": "B1KLSX0ZQ5Vl",
        "colab_type": "text"
      },
      "source": [
        "# いつものヤーツ"
      ]
    },
    {
      "cell_type": "code",
      "metadata": {
        "id": "hdrI4b4DwdH6",
        "colab_type": "code",
        "colab": {}
      },
      "source": [
        "from matplotlib.colors import ListedColormap\n",
        "\n",
        "def plot_decision_regions(X, y, classifier, resolution=0.02):\n",
        "\n",
        "    # setup marker generator and color map\n",
        "    markers = ('s', 'x', 'o', '^', 'v')\n",
        "    colors = ('red', 'blue', 'lightgreen', 'gray', 'cyan')\n",
        "    cmap = ListedColormap(colors[:len(np.unique(y))])\n",
        "\n",
        "    # plot the decision surface\n",
        "    x1_min, x1_max = X[:, 0].min() - 1, X[:, 0].max() + 1\n",
        "    x2_min, x2_max = X[:, 1].min() - 1, X[:, 1].max() + 1\n",
        "    xx1, xx2 = np.meshgrid(np.arange(x1_min, x1_max, resolution),\n",
        "                           np.arange(x2_min, x2_max, resolution))\n",
        "    Z = classifier.predict(np.array([xx1.ravel(), xx2.ravel()]).T)\n",
        "    Z = Z.reshape(xx1.shape)\n",
        "    plt.contourf(xx1, xx2, Z, alpha=0.4, cmap=cmap)\n",
        "    plt.xlim(xx1.min(), xx1.max())\n",
        "    plt.ylim(xx2.min(), xx2.max())\n",
        "\n",
        "    # plot class samples\n",
        "    for idx, cl in enumerate(np.unique(y)):\n",
        "        plt.scatter(x=X[y == cl, 0], \n",
        "                    y=X[y == cl, 1],\n",
        "                    alpha=0.6, \n",
        "                    c=cmap(idx),\n",
        "                    edgecolor='black',\n",
        "                    marker=markers[idx], \n",
        "                    label=cl)"
      ],
      "execution_count": 0,
      "outputs": []
    },
    {
      "cell_type": "markdown",
      "metadata": {
        "id": "f9nEr1JLShWk",
        "colab_type": "text"
      },
      "source": [
        "## PCAを使用してロジスティック回帰"
      ]
    },
    {
      "cell_type": "code",
      "metadata": {
        "id": "thBCi-Scwgs5",
        "colab_type": "code",
        "outputId": "27656ee7-7b6f-4ebd-ff40-bab46fd1c006",
        "colab": {
          "base_uri": "https://localhost:8080/",
          "height": 105
        }
      },
      "source": [
        "from sklearn.linear_model import LogisticRegression\n",
        "\n",
        "pca = PCA(n_components=2)\n",
        "X_train_pca = pca.fit_transform(X_train_std)\n",
        "X_test_pca = pca.transform(X_test_std)\n",
        "\n",
        "lr = LogisticRegression()\n",
        "lr = lr.fit(X_train_pca, y_train)"
      ],
      "execution_count": 0,
      "outputs": [
        {
          "output_type": "stream",
          "text": [
            "/usr/local/lib/python3.6/dist-packages/sklearn/linear_model/logistic.py:432: FutureWarning: Default solver will be changed to 'lbfgs' in 0.22. Specify a solver to silence this warning.\n",
            "  FutureWarning)\n",
            "/usr/local/lib/python3.6/dist-packages/sklearn/linear_model/logistic.py:469: FutureWarning: Default multi_class will be changed to 'auto' in 0.22. Specify the multi_class option to silence this warning.\n",
            "  \"this warning.\", FutureWarning)\n"
          ],
          "name": "stderr"
        }
      ]
    },
    {
      "cell_type": "markdown",
      "metadata": {
        "id": "YggKijYXT0-v",
        "colab_type": "text"
      },
      "source": [
        "train dataで作成"
      ]
    },
    {
      "cell_type": "code",
      "metadata": {
        "id": "m2IvoL_wwi_s",
        "colab_type": "code",
        "outputId": "ca61de00-055d-4959-a856-ade61d37fe9a",
        "colab": {
          "base_uri": "https://localhost:8080/",
          "height": 368
        }
      },
      "source": [
        "plot_decision_regions(X_train_pca, y_train, classifier=lr)\n",
        "plt.xlabel('PC 1')\n",
        "plt.ylabel('PC 2')\n",
        "plt.legend(loc='lower left')\n",
        "plt.tight_layout()\n",
        "# plt.savefig('images/05_04.png', dpi=300)\n",
        "plt.show()"
      ],
      "execution_count": 0,
      "outputs": [
        {
          "output_type": "stream",
          "text": [
            "'c' argument looks like a single numeric RGB or RGBA sequence, which should be avoided as value-mapping will have precedence in case its length matches with 'x' & 'y'.  Please use a 2-D array with a single row if you really want to specify the same RGB or RGBA value for all points.\n",
            "'c' argument looks like a single numeric RGB or RGBA sequence, which should be avoided as value-mapping will have precedence in case its length matches with 'x' & 'y'.  Please use a 2-D array with a single row if you really want to specify the same RGB or RGBA value for all points.\n",
            "'c' argument looks like a single numeric RGB or RGBA sequence, which should be avoided as value-mapping will have precedence in case its length matches with 'x' & 'y'.  Please use a 2-D array with a single row if you really want to specify the same RGB or RGBA value for all points.\n"
          ],
          "name": "stderr"
        },
        {
          "output_type": "display_data",
          "data": {
            "image/png": "[encoded data removed]",
            "text/plain": [
              "<Figure size 432x288 with 1 Axes>"
            ]
          },
          "metadata": {
            "tags": []
          }
        }
      ]
    },
    {
      "cell_type": "markdown",
      "metadata": {
        "id": "YUzQp7beT6js",
        "colab_type": "text"
      },
      "source": [
        "test dataで作成<br>\n",
        "train data で作成したPCAで処理したので 、若干のずれがある。"
      ]
    },
    {
      "cell_type": "code",
      "metadata": {
        "id": "RvohwhkHwmOy",
        "colab_type": "code",
        "outputId": "8d067dc3-de59-418c-c79b-c31d5dc2e377",
        "colab": {
          "base_uri": "https://localhost:8080/",
          "height": 368
        }
      },
      "source": [
        "plot_decision_regions(X_test_pca, y_test, classifier=lr)\n",
        "plt.xlabel('PC 1')\n",
        "plt.ylabel('PC 2')\n",
        "plt.legend(loc='lower left')\n",
        "plt.tight_layout()\n",
        "# plt.savefig('images/05_05.png', dpi=300)\n",
        "plt.show()"
      ],
      "execution_count": 0,
      "outputs": [
        {
          "output_type": "stream",
          "text": [
            "'c' argument looks like a single numeric RGB or RGBA sequence, which should be avoided as value-mapping will have precedence in case its length matches with 'x' & 'y'.  Please use a 2-D array with a single row if you really want to specify the same RGB or RGBA value for all points.\n",
            "'c' argument looks like a single numeric RGB or RGBA sequence, which should be avoided as value-mapping will have precedence in case its length matches with 'x' & 'y'.  Please use a 2-D array with a single row if you really want to specify the same RGB or RGBA value for all points.\n",
            "'c' argument looks like a single numeric RGB or RGBA sequence, which should be avoided as value-mapping will have precedence in case its length matches with 'x' & 'y'.  Please use a 2-D array with a single row if you really want to specify the same RGB or RGBA value for all points.\n"
          ],
          "name": "stderr"
        },
        {
          "output_type": "display_data",
          "data": {
            "image/png": "[encoded data removed]",
            "text/plain": [
              "<Figure size 432x288 with 1 Axes>"
            ]
          },
          "metadata": {
            "tags": []
          }
        }
      ]
    },
    {
      "cell_type": "markdown",
      "metadata": {
        "id": "iUlr9KCaUlKR",
        "colab_type": "text"
      },
      "source": [
        "PCAの説明率に**のみ**興味ある場合は、<br>\n",
        "pca(n_components=None) することで、説明率にアクセス可能になる。<br>\n"
      ]
    },
    {
      "cell_type": "code",
      "metadata": {
        "id": "YoCZBiCHwuHx",
        "colab_type": "code",
        "outputId": "50dca9f8-a339-4fb8-ed76-30a9000bf0ea",
        "colab": {
          "base_uri": "https://localhost:8080/",
          "height": 68
        }
      },
      "source": [
        "pca = PCA(n_components=None)\n",
        "X_train_pca = pca.fit_transform(X_train_std)\n",
        "pca.explained_variance_ratio_"
      ],
      "execution_count": 0,
      "outputs": [
        {
          "output_type": "execute_result",
          "data": {
            "text/plain": [
              "array([0.36951469, 0.18434927, 0.11815159, 0.07334252, 0.06422108,\n",
              "       0.05051724, 0.03954654, 0.02643918, 0.02389319, 0.01629614,\n",
              "       0.01380021, 0.01172226, 0.00820609])"
            ]
          },
          "metadata": {
            "tags": []
          },
          "execution_count": 26
        }
      ]
    },
    {
      "cell_type": "markdown",
      "metadata": {
        "id": "U63XFcswwxnv",
        "colab_type": "text"
      },
      "source": [
        "# 線型判別分析による教師ありデータ圧縮\n",
        "**線形判別分析(Linear Discriminater Analysis : LDA)**は特徴量抽出の手法の一つである。<bR>\n",
        " <br>\n",
        "LDAとPCAはどちらも線形判別法であり、データセットの次元数を減らす為に使用できる。<br>\n",
        "PCAは教師なしアルゴリズムであるのに対し、LDAは教師ありアルゴリズムであるため、<br>\n",
        "分類タスクの特徴量抽出としてはLDAの方が優れている。<br>\n",
        " <br>\n",
        "  1. $d$次元のデータセットを標準化\n",
        "  1. クラス毎に$d$次元の平均ベクトルを計算する\n",
        "  1. 平均ベクトルを使用してクラス間変動行列$S_B$と、クラス内変動行列$S_W$を生成する。\n",
        "  1. 行列$S^{-1}_WS_B$の固有ベクトルと対応する固有値を計算する\n",
        "  1. 固有値を降順でソートする事で、対応する固有ベクトルをランク付けする\n",
        "  1. $d \\times k$次元の変換行列$W$を生成するために、最も大きい$k$個の固有値に対応する$k$個の固有ベクトルを選択する<BR>\n",
        "  固有ベクトルとはこの行列のことである\n",
        "  1. 変換行列$W$を使用してサンプルを新しい特徴部分空間に射影する\n",
        "  \n",
        " ## 5.2.3 変動行列を計算する\n",
        "  標準化は前の章で済ましているので、それでリサイクル。<br>\n",
        "  各平均ベクトル$m_i$には、クラス$i$のサンプルに関する平均特徴量の値$\\mu_m$が格納されます。\n",
        " $$\n",
        " m_i = \\frac{1}{n_i} \\sum^c_{x \\in D_i} x\n",
        " $$\n",
        "  平均の出しかたは上記の式をそのまま使用するとして、平均ベクトルは下記の様に算出します。\n",
        "  $$\n",
        " m_i = \\left[\n",
        "    \\begin{array}{r}\n",
        "      \\mu _{i,alcohole} \\\\\n",
        "      \\mu_{i,malic acid} \\\\\n",
        "      \\vdots \\\\\n",
        "      \\mu_{i,proline}\n",
        "    \\end{array}\n",
        "  \\right]^T\n",
        "  $$\n",
        "  \n",
        "   ****\n",
        "  #### np.set_printoptions\n",
        "  numpyで表示する小数を、小数第$n$位まで表示するか決めれる。"
      ]
    },
    {
      "cell_type": "code",
      "metadata": {
        "id": "Oq6TLasjxAIp",
        "colab_type": "code",
        "outputId": "dba8380a-2830-473b-fa46-7394b6d8599e",
        "colab": {
          "base_uri": "https://localhost:8080/",
          "height": 170
        }
      },
      "source": [
        "np.set_printoptions(precision=4)\n",
        "\n",
        "mean_vecs = []\n",
        "for label in range(1, 4):\n",
        "    mean_vecs.append(np.mean(X_train_std[y_train == label], axis=0))\n",
        "    print('MV %s: %s\\n' % (label, mean_vecs[label - 1]))"
      ],
      "execution_count": 0,
      "outputs": [
        {
          "output_type": "stream",
          "text": [
            "MV 1: [ 0.9066 -0.3497  0.3201 -0.7189  0.5056  0.8807  0.9589 -0.5516  0.5416\n",
            "  0.2338  0.5897  0.6563  1.2075]\n",
            "\n",
            "MV 2: [-0.8749 -0.2848 -0.3735  0.3157 -0.3848 -0.0433  0.0635 -0.0946  0.0703\n",
            " -0.8286  0.3144  0.3608 -0.7253]\n",
            "\n",
            "MV 3: [ 0.1992  0.866   0.1682  0.4148 -0.0451 -1.0286 -1.2876  0.8287 -0.7795\n",
            "  0.9649 -1.209  -1.3622 -0.4013]\n",
            "\n"
          ],
          "name": "stdout"
        }
      ]
    },
    {
      "cell_type": "markdown",
      "metadata": {
        "id": "CDTJ9vkNNnzO",
        "colab_type": "text"
      },
      "source": [
        "クラス内変動行列$S_W$の計算方法は下記のとおりである。 \n",
        "$$\n",
        "S_W = \\sum_{i=1}^cS_i\n",
        "$$\n",
        "上記の式の右片である$S_i$は個々のクラス$i$について、 <br>\n",
        "変動行列$S_i$を合計することによって計算される。\n",
        "$$\n",
        "S_i = \\sum_{x \\in D_i}^c (x-m_i)(x-m_i)^T\n",
        "$$"
      ]
    },
    {
      "cell_type": "code",
      "metadata": {
        "id": "JRGtFDk6xA0L",
        "colab_type": "code",
        "outputId": "696638d5-af6d-47b3-df59-b70ce5aaad59",
        "colab": {
          "base_uri": "https://localhost:8080/",
          "height": 34
        }
      },
      "source": [
        "d = 13 # 特徴量の数\n",
        "S_W = np.zeros((d, d))\n",
        "for label, mv in zip(range(1, 4), mean_vecs):\n",
        "    class_scatter = np.zeros((d, d))  # scatter matrix for each class\n",
        "    for row in X_train_std[y_train == label]:\n",
        "        row, mv = row.reshape(d, 1), mv.reshape(d, 1)  # make column vectors\n",
        "        class_scatter += (row - mv).dot((row - mv).T)\n",
        "    S_W += class_scatter                          # sum class scatter matrices\n",
        "\n",
        "print('Within-class scatter matrix: %sx%s' % (S_W.shape[0], S_W.shape[1]))"
      ],
      "execution_count": 0,
      "outputs": [
        {
          "output_type": "stream",
          "text": [
            "Within-class scatter matrix: 13x13\n"
          ],
          "name": "stdout"
        }
      ]
    },
    {
      "cell_type": "markdown",
      "metadata": {
        "id": "DTGUnK0SqUAn",
        "colab_type": "text"
      },
      "source": [
        "変動行列を計算するときはクラスラベルが一様に分布していることが前提です。<bR>"
      ]
    },
    {
      "cell_type": "code",
      "metadata": {
        "id": "QU-3e_tnxO_3",
        "colab_type": "code",
        "outputId": "052a5aad-4a7e-4e23-a2b8-1be9f20201be",
        "colab": {
          "base_uri": "https://localhost:8080/",
          "height": 34
        }
      },
      "source": [
        "print('Class label distribution: %s' \n",
        "      % np.bincount(y_train)[1:])"
      ],
      "execution_count": 0,
      "outputs": [
        {
          "output_type": "stream",
          "text": [
            "Class label distribution: [41 50 33]\n"
          ],
          "name": "stdout"
        }
      ]
    },
    {
      "cell_type": "markdown",
      "metadata": {
        "id": "s0usu_z2aNNX",
        "colab_type": "text"
      },
      "source": [
        "なので、個々の変動行列$S_i$を合計して$S_W$を作成する前に、スケーリングが必要です。<bR>\n",
        "  \n",
        "$$ \n",
        "\\sum_i = \\frac{1}{n_i}S_W = \\frac{1}{n_i}\\sum_{x \\in D_i}^c (x-m_i)(x-m_i)^T\n",
        "$$ "
      ]
    },
    {
      "cell_type": "code",
      "metadata": {
        "id": "JyDy6rkCxTb5",
        "colab_type": "code",
        "outputId": "080cec2b-9d77-434a-8b8f-3655dfd17907",
        "colab": {
          "base_uri": "https://localhost:8080/",
          "height": 34
        }
      },
      "source": [
        "d = 13  # number of features\n",
        "S_W = np.zeros((d, d))\n",
        "for label, mv in zip(range(1, 4), mean_vecs):\n",
        "    class_scatter = np.cov(X_train_std[y_train == label].T)\n",
        "    S_W += class_scatter\n",
        "print('Scaled within-class scatter matrix: %sx%s' % (S_W.shape[0],\n",
        "                                                     S_W.shape[1]))"
      ],
      "execution_count": 0,
      "outputs": [
        {
          "output_type": "stream",
          "text": [
            "Scaled within-class scatter matrix: 13x13\n"
          ],
          "name": "stdout"
        }
      ]
    },
    {
      "cell_type": "markdown",
      "metadata": {
        "id": "xDVO82MSiq5o",
        "colab_type": "text"
      },
      "source": [
        "クラス間変動行列$S_B$は下記の手順で計算が可能である\n",
        "$$\n",
        "S_B = \\sum_{i=1}^c n_i (m_i-m)(m_i-m)^T\n",
        "$$\n",
        "\n"
      ]
    },
    {
      "cell_type": "code",
      "metadata": {
        "id": "qJ1eBANIxXDc",
        "colab_type": "code",
        "outputId": "798e0f26-e93d-46e7-86f1-d1ee7d9262bd",
        "colab": {
          "base_uri": "https://localhost:8080/",
          "height": 34
        }
      },
      "source": [
        "mean_overall = np.mean(X_train_std, axis=0)\n",
        "d = 13  # number of features\n",
        "S_B = np.zeros((d, d))\n",
        "for i, mean_vec in enumerate(mean_vecs):\n",
        "    n = X_train[y_train == i + 1, :].shape[0]\n",
        "    mean_vec = mean_vec.reshape(d, 1)  # make column vector\n",
        "    mean_overall = mean_overall.reshape(d, 1)  # make column vector\n",
        "    S_B += n * (mean_vec - mean_overall).dot((mean_vec - mean_overall).T)\n",
        "\n",
        "print('Between-class scatter matrix: %sx%s' % (S_B.shape[0], S_B.shape[1]))"
      ],
      "execution_count": 0,
      "outputs": [
        {
          "output_type": "stream",
          "text": [
            "Between-class scatter matrix: 13x13\n"
          ],
          "name": "stdout"
        }
      ]
    },
    {
      "cell_type": "markdown",
      "metadata": {
        "id": "7FmYwpIF4H1J",
        "colab_type": "text"
      },
      "source": [
        "# 5.2.4 新しい特徴部分空間の線形判別を選択する\n",
        "LDAの残りの手順は、PCAの手順と似ている。<bR>\n",
        "但し、共分散行列を固有値分解するのではなく、<br>\n",
        "行列$S_W^{-1}S_B$の一般化された固有値問題を解く。\n",
        "  #### np.linalg.inv\n",
        "  逆行列を出してくれる"
      ]
    },
    {
      "cell_type": "code",
      "metadata": {
        "id": "N6q7_nymxfFb",
        "colab_type": "code",
        "colab": {}
      },
      "source": [
        "eigen_vals, eigen_vecs = np.linalg.eig(np.linalg.inv(S_W).dot(S_B))"
      ],
      "execution_count": 0,
      "outputs": []
    },
    {
      "cell_type": "code",
      "metadata": {
        "id": "ZKTY6yUzxfBt",
        "colab_type": "code",
        "outputId": "095eb934-0ca6-4126-c103-537a60314e23",
        "colab": {
          "base_uri": "https://localhost:8080/",
          "height": 272
        }
      },
      "source": [
        "# Make a list of (eigenvalue, eigenvector) tuples\n",
        "eigen_pairs = [(np.abs(eigen_vals[i]), eigen_vecs[:, i])\n",
        "               for i in range(len(eigen_vals))]\n",
        "\n",
        "# Sort the (eigenvalue, eigenvector) tuples from high to low\n",
        "eigen_pairs = sorted(eigen_pairs, key=lambda k: k[0], reverse=True)\n",
        "\n",
        "# Visually confirm that the list is correctly sorted by decreasing eigenvalues\n",
        "\n",
        "print('Eigenvalues in descending order:\\n')\n",
        "for eigen_val in eigen_pairs:\n",
        "    print(eigen_val[0])"
      ],
      "execution_count": 0,
      "outputs": [
        {
          "output_type": "stream",
          "text": [
            "Eigenvalues in descending order:\n",
            "\n",
            "349.61780890599397\n",
            "172.7615221897938\n",
            "3.389259780547781e-14\n",
            "2.842170943040401e-14\n",
            "1.9284611807586422e-14\n",
            "1.9284611807586422e-14\n",
            "1.8639179987230033e-14\n",
            "1.8639179987230033e-14\n",
            "7.057897559458914e-15\n",
            "7.057897559458914e-15\n",
            "6.596592553773414e-15\n",
            "3.81059209269662e-15\n",
            "3.3908455462202616e-15\n"
          ],
          "name": "stdout"
        }
      ]
    },
    {
      "cell_type": "code",
      "metadata": {
        "id": "RVbVbAScxe3X",
        "colab_type": "code",
        "outputId": "70890bcf-f24e-4889-ae5a-b9fdd634c93f",
        "colab": {
          "base_uri": "https://localhost:8080/",
          "height": 297
        }
      },
      "source": [
        "tot = sum(eigen_vals.real)\n",
        "discr = [(i / tot) for i in sorted(eigen_vals.real, reverse=True)]\n",
        "cum_discr = np.cumsum(discr)\n",
        "\n",
        "plt.bar(range(1, 14), discr, alpha=0.5, align='center',\n",
        "        label='individual \"discriminability\"')\n",
        "plt.step(range(1, 14), cum_discr, where='mid',\n",
        "         label='cumulative \"discriminability\"')\n",
        "plt.ylabel('\"discriminability\" ratio')\n",
        "plt.xlabel('Linear Discriminants')\n",
        "plt.ylim([-0.1, 1.1])\n",
        "plt.legend(loc='best')\n",
        "plt.tight_layout()\n",
        "# plt.savefig('images/05_07.png', dpi=300)\n",
        "plt.show()"
      ],
      "execution_count": 0,
      "outputs": [
        {
          "output_type": "display_data",
          "data": {
            "image/png": "[encoded data removed]",
            "text/plain": [
              "<Figure size 432x288 with 1 Axes>"
            ]
          },
          "metadata": {
            "tags": []
          }
        }
      ]
    },
    {
      "cell_type": "code",
      "metadata": {
        "id": "zSXqnxKQxrZY",
        "colab_type": "code",
        "outputId": "cf55765c-87bb-4b19-fc0f-7912405718a9",
        "colab": {
          "base_uri": "https://localhost:8080/",
          "height": 255
        }
      },
      "source": [
        "w = np.hstack((eigen_pairs[0][1][:, np.newaxis].real,\n",
        "              eigen_pairs[1][1][:, np.newaxis].real))\n",
        "print('Matrix W:\\n', w)"
      ],
      "execution_count": 0,
      "outputs": [
        {
          "output_type": "stream",
          "text": [
            "Matrix W:\n",
            " [[-0.1481 -0.4092]\n",
            " [ 0.0908 -0.1577]\n",
            " [-0.0168 -0.3537]\n",
            " [ 0.1484  0.3223]\n",
            " [-0.0163 -0.0817]\n",
            " [ 0.1913  0.0842]\n",
            " [-0.7338  0.2823]\n",
            " [-0.075  -0.0102]\n",
            " [ 0.0018  0.0907]\n",
            " [ 0.294  -0.2152]\n",
            " [-0.0328  0.2747]\n",
            " [-0.3547 -0.0124]\n",
            " [-0.3915 -0.5958]]\n"
          ],
          "name": "stdout"
        }
      ]
    },
    {
      "cell_type": "markdown",
      "metadata": {
        "id": "A7DHd8Tr6h57",
        "colab_type": "text"
      },
      "source": [
        "# 5.2.5 新しい特徴空間にサンプルを射影する\n"
      ]
    },
    {
      "cell_type": "code",
      "metadata": {
        "id": "z3rRwbMljxmf",
        "colab_type": "code",
        "outputId": "164269ed-3a87-45eb-e3c9-a165a6f9cbea",
        "colab": {
          "base_uri": "https://localhost:8080/",
          "height": 297
        }
      },
      "source": [
        "X_train_lda = X_train_std.dot(w)\n",
        "colors = ['r', 'b', 'g']\n",
        "markers = ['s', 'x', 'o']\n",
        "\n",
        "for l, c, m in zip(np.unique(y_train), colors, markers):\n",
        "    plt.scatter(X_train_lda[y_train == l, 0],\n",
        "                X_train_lda[y_train == l, 1] * (-1),\n",
        "                c=c, label=l, marker=m)\n",
        "\n",
        "plt.xlabel('LD 1')\n",
        "plt.ylabel('LD 2')\n",
        "plt.legend(loc='lower right')\n",
        "plt.tight_layout()\n",
        "# plt.savefig('images/05_08.png', dpi=300)\n",
        "plt.show()\n"
      ],
      "execution_count": 0,
      "outputs": [
        {
          "output_type": "display_data",
          "data": {
            "image/png": "[encoded data removed]",
            "text/plain": [
              "<Figure size 432x288 with 1 Axes>"
            ]
          },
          "metadata": {
            "tags": []
          }
        }
      ]
    },
    {
      "cell_type": "markdown",
      "metadata": {
        "id": "YEJqsPbP67rq",
        "colab_type": "text"
      },
      "source": [
        "# 5.2.6  Scikit-learnによる線型判別分析"
      ]
    },
    {
      "cell_type": "code",
      "metadata": {
        "id": "H4UIptoQj18E",
        "colab_type": "code",
        "colab": {}
      },
      "source": [
        "from sklearn.discriminant_analysis import LinearDiscriminantAnalysis as LDA\n",
        "\n",
        "lda = LDA(n_components=2)\n",
        "X_train_lda = lda.fit_transform(X_train_std, y_train)"
      ],
      "execution_count": 0,
      "outputs": []
    },
    {
      "cell_type": "code",
      "metadata": {
        "id": "Bbnknpumj5G0",
        "colab_type": "code",
        "outputId": "e47369ce-56d4-438b-cc2d-140caa72f99a",
        "colab": {
          "base_uri": "https://localhost:8080/",
          "height": 436
        }
      },
      "source": [
        "from sklearn.linear_model import LogisticRegression\n",
        "lr = LogisticRegression()\n",
        "lr = lr.fit(X_train_lda, y_train)\n",
        "\n",
        "plot_decision_regions(X_train_lda, y_train, classifier=lr)\n",
        "plt.xlabel('LD 1')\n",
        "plt.ylabel('LD 2')\n",
        "plt.legend(loc='lower left')\n",
        "plt.tight_layout()\n",
        "# plt.savefig('images/05_09.png', dpi=300)\n",
        "plt.show()"
      ],
      "execution_count": 0,
      "outputs": [
        {
          "output_type": "stream",
          "text": [
            "/usr/local/lib/python3.6/dist-packages/sklearn/linear_model/logistic.py:432: FutureWarning: Default solver will be changed to 'lbfgs' in 0.22. Specify a solver to silence this warning.\n",
            "  FutureWarning)\n",
            "/usr/local/lib/python3.6/dist-packages/sklearn/linear_model/logistic.py:469: FutureWarning: Default multi_class will be changed to 'auto' in 0.22. Specify the multi_class option to silence this warning.\n",
            "  \"this warning.\", FutureWarning)\n",
            "'c' argument looks like a single numeric RGB or RGBA sequence, which should be avoided as value-mapping will have precedence in case its length matches with 'x' & 'y'.  Please use a 2-D array with a single row if you really want to specify the same RGB or RGBA value for all points.\n",
            "'c' argument looks like a single numeric RGB or RGBA sequence, which should be avoided as value-mapping will have precedence in case its length matches with 'x' & 'y'.  Please use a 2-D array with a single row if you really want to specify the same RGB or RGBA value for all points.\n",
            "'c' argument looks like a single numeric RGB or RGBA sequence, which should be avoided as value-mapping will have precedence in case its length matches with 'x' & 'y'.  Please use a 2-D array with a single row if you really want to specify the same RGB or RGBA value for all points.\n"
          ],
          "name": "stderr"
        },
        {
          "output_type": "display_data",
          "data": {
            "image/png": "[encoded data removed]",
            "text/plain": [
              "<Figure size 432x288 with 1 Axes>"
            ]
          },
          "metadata": {
            "tags": []
          }
        }
      ]
    },
    {
      "cell_type": "code",
      "metadata": {
        "id": "WQjIvBO1j9LJ",
        "colab_type": "code",
        "outputId": "18d53067-e7b6-4713-b78a-547bed8e9480",
        "colab": {
          "base_uri": "https://localhost:8080/",
          "height": 368
        }
      },
      "source": [
        "X_test_lda = lda.transform(X_test_std)\n",
        "\n",
        "plot_decision_regions(X_test_lda, y_test, classifier=lr)\n",
        "plt.xlabel('LD 1')\n",
        "plt.ylabel('LD 2')\n",
        "plt.legend(loc='lower left')\n",
        "plt.tight_layout()\n",
        "# plt.savefig('images/05_10.png', dpi=300)\n",
        "plt.show()"
      ],
      "execution_count": 0,
      "outputs": [
        {
          "output_type": "stream",
          "text": [
            "'c' argument looks like a single numeric RGB or RGBA sequence, which should be avoided as value-mapping will have precedence in case its length matches with 'x' & 'y'.  Please use a 2-D array with a single row if you really want to specify the same RGB or RGBA value for all points.\n",
            "'c' argument looks like a single numeric RGB or RGBA sequence, which should be avoided as value-mapping will have precedence in case its length matches with 'x' & 'y'.  Please use a 2-D array with a single row if you really want to specify the same RGB or RGBA value for all points.\n",
            "'c' argument looks like a single numeric RGB or RGBA sequence, which should be avoided as value-mapping will have precedence in case its length matches with 'x' & 'y'.  Please use a 2-D array with a single row if you really want to specify the same RGB or RGBA value for all points.\n"
          ],
          "name": "stderr"
        },
        {
          "output_type": "display_data",
          "data": {
            "image/png": "[encoded data removed]",
            "text/plain": [
              "<Figure size 432x288 with 1 Axes>"
            ]
          },
          "metadata": {
            "tags": []
          }
        }
      ]
    },
    {
      "cell_type": "markdown",
      "metadata": {
        "id": "yoEEnyiX7XvG",
        "colab_type": "text"
      },
      "source": [
        "# 5.3.2 Pythonでカーネル主成分を実装する\n",
        "\n",
        "3章でカーネルSVMに関する説明で学んだように、非線形問題を解くには高い次元の新しい特徴量空間に射影すると、線型分離が可能になったりする。\n",
        "*****\n",
        "#### 通常のPCA復習\n",
        "共分散行列\n",
        "$$\n",
        "\\sigma _{jk}  = \\frac{1}{n}\\sum_{i=1}^n(x^{(i)}_j-\\mu_j)(x^{(i)}_k-\\mu_k)\n",
        "$$\n",
        " よくよく考えて見ると標準化しているから平均が0になるよね。\n",
        " $$\n",
        "\\sigma_jk = \\frac{1}{n} \\sum_{i=1}^n x^{(i)}_j x^{(i)}_k\n",
        "$$\n",
        " "
      ]
    },
    {
      "cell_type": "code",
      "metadata": {
        "id": "tV1ybBh9kq8n",
        "colab_type": "code",
        "colab": {}
      },
      "source": [
        "from scipy.spatial.distance import pdist, squareform\n",
        "from scipy import exp\n",
        "from scipy.linalg import eigh\n",
        "import numpy as np\n",
        "\n",
        "def rbf_kernel_pca(X, gamma, n_components):\n",
        "    \"\"\"\n",
        "    RBF kernel PCA implementation.\n",
        "\n",
        "    Parameters\n",
        "    ------------\n",
        "    X: {NumPy ndarray}, shape = [n_samples, n_features]\n",
        "        \n",
        "    gamma: float\n",
        "      Tuning parameter of the RBF kernel\n",
        "        \n",
        "    n_components: int\n",
        "      Number of principal components to return\n",
        "\n",
        "    Returns\n",
        "    ------------\n",
        "     X_pc: {NumPy ndarray}, shape = [n_samples, k_features]\n",
        "       Projected dataset   \n",
        "\n",
        "    \"\"\"\n",
        "    # Calculate pairwise squared Euclidean distances\n",
        "    # in the MxN dimensional dataset.\n",
        "    sq_dists = pdist(X, 'sqeuclidean')\n",
        "\n",
        "    # Convert pairwise distances into a square matrix.\n",
        "    mat_sq_dists = squareform(sq_dists)\n",
        "\n",
        "    # Compute the symmetric kernel matrix.\n",
        "    K = exp(-gamma * mat_sq_dists)\n",
        "\n",
        "    # Center the kernel matrix.\n",
        "    N = K.shape[0]\n",
        "    one_n = np.ones((N, N)) / N\n",
        "    K = K - one_n.dot(K) - K.dot(one_n) + one_n.dot(K).dot(one_n)\n",
        "\n",
        "    # Obtaining eigenpairs from the centered kernel matrix\n",
        "    # scipy.linalg.eigh returns them in ascending order\n",
        "    eigvals, eigvecs = eigh(K)\n",
        "    eigvals, eigvecs = eigvals[::-1], eigvecs[:, ::-1]\n",
        "\n",
        "    # Collect the top k eigenvectors (projected samples)\n",
        "    X_pc = np.column_stack((eigvecs[:, i]\n",
        "                            for i in range(n_components)))\n",
        "\n",
        "    return X_pc"
      ],
      "execution_count": 0,
      "outputs": []
    },
    {
      "cell_type": "code",
      "metadata": {
        "id": "KH-H1L_ak2lQ",
        "colab_type": "code",
        "outputId": "aeb85bf6-22e3-492e-eb41-82584675c027",
        "colab": {
          "base_uri": "https://localhost:8080/",
          "height": 297
        }
      },
      "source": [
        "import matplotlib.pyplot as plt\n",
        "from sklearn.datasets import make_moons\n",
        "\n",
        "X, y = make_moons(n_samples=100, random_state=123)\n",
        "\n",
        "plt.scatter(X[y == 0, 0], X[y == 0, 1], color='red', marker='^', alpha=0.5)\n",
        "plt.scatter(X[y == 1, 0], X[y == 1, 1], color='blue', marker='o', alpha=0.5)\n",
        "\n",
        "plt.tight_layout()\n",
        "# plt.savefig('images/05_12.png', dpi=300)\n",
        "plt.show()"
      ],
      "execution_count": 0,
      "outputs": [
        {
          "output_type": "display_data",
          "data": {
            "image/png": "[encoded data removed]",
            "text/plain": [
              "<Figure size 432x288 with 1 Axes>"
            ]
          },
          "metadata": {
            "tags": []
          }
        }
      ]
    },
    {
      "cell_type": "markdown",
      "metadata": {
        "id": "hL9QWHHuwoae",
        "colab_type": "text"
      },
      "source": [
        "# 普通の主成分分析を試してみましょう。\n",
        "カーネル主成分を使用する前に、普通の主成分分析を実践してみましょう。<br>\n",
        "そうすればカーネル主成分の威力がわかりやすくなるはずです。"
      ]
    },
    {
      "cell_type": "code",
      "metadata": {
        "id": "IftTrkMCk79v",
        "colab_type": "code",
        "outputId": "553aca6c-f6f0-4721-cbbd-421d6a4879f8",
        "colab": {
          "base_uri": "https://localhost:8080/",
          "height": 225
        }
      },
      "source": [
        "from sklearn.decomposition import PCA\n",
        "\n",
        "scikit_pca = PCA(n_components=2)\n",
        "X_spca = scikit_pca.fit_transform(X)\n",
        "\n",
        "fig, ax = plt.subplots(nrows=1, ncols=2, figsize=(7, 3))\n",
        "\n",
        "# 左の散布図をプロット。\n",
        "# 主成分2個で作成したバージョン\n",
        "ax[0].scatter(X_spca[y == 0, 0], X_spca[y == 0, 1],\n",
        "              color='red', marker='^', alpha=0.5)\n",
        "ax[0].scatter(X_spca[y == 1, 0], X_spca[y == 1, 1],\n",
        "              color='blue', marker='o', alpha=0.5)\n",
        "\n",
        "# 右の散布図をプロット\n",
        "# 主成分1個で作成したバージョン\n",
        "ax[1].scatter(X_spca[y == 0, 0], np.zeros((50, 1)) + 0.02,\n",
        "              color='red', marker='^', alpha=0.5)\n",
        "ax[1].scatter(X_spca[y == 1, 0], np.zeros((50, 1)) - 0.02,\n",
        "              color='blue', marker='o', alpha=0.5)\n",
        "\n",
        "ax[0].set_xlabel('PC1')\n",
        "ax[0].set_ylabel('PC2')\n",
        "ax[1].set_ylim([-1, 1])\n",
        "ax[1].set_yticks([])\n",
        "ax[1].set_xlabel('PC1')\n",
        "\n",
        "plt.tight_layout()\n",
        "# plt.savefig('images/05_13.png', dpi=300)\n",
        "plt.show()"
      ],
      "execution_count": 0,
      "outputs": [
        {
          "output_type": "display_data",
          "data": {
            "image/png": "[encoded data removed]",
            "text/plain": [
              "<Figure size 504x216 with 2 Axes>"
            ]
          },
          "metadata": {
            "tags": []
          }
        }
      ]
    },
    {
      "cell_type": "markdown",
      "metadata": {
        "id": "kKH4vzP9xMj_",
        "colab_type": "text"
      },
      "source": [
        "# カーネル主成分 version"
      ]
    },
    {
      "cell_type": "code",
      "metadata": {
        "id": "9AFdW19VlAqm",
        "colab_type": "code",
        "outputId": "c69e2b0e-7f1d-4ddb-fd22-5872a962301b",
        "colab": {
          "base_uri": "https://localhost:8080/",
          "height": 262
        }
      },
      "source": [
        "X_kpca = rbf_kernel_pca(X, gamma=15, n_components=2)\n",
        "\n",
        "fig, ax = plt.subplots(nrows=1,ncols=2, figsize=(7,3))\n",
        "\n",
        "ax[0].scatter(X_kpca[y==0, 0], X_kpca[y==0, 1], \n",
        "            color='red', marker='^', alpha=0.5)\n",
        "ax[0].scatter(X_kpca[y==1, 0], X_kpca[y==1, 1],\n",
        "            color='blue', marker='o', alpha=0.5)\n",
        "\n",
        "ax[1].scatter(X_kpca[y==0, 0], np.zeros((50,1))+0.02, \n",
        "            color='red', marker='^', alpha=0.5)\n",
        "ax[1].scatter(X_kpca[y==1, 0], np.zeros((50,1))-0.02,\n",
        "            color='blue', marker='o', alpha=0.5)\n",
        "\n",
        "ax[0].set_xlabel('PC1')\n",
        "ax[0].set_ylabel('PC2')\n",
        "ax[1].set_ylim([-1, 1])\n",
        "ax[1].set_yticks([])\n",
        "ax[1].set_xlabel('PC1')\n",
        "\n",
        "plt.tight_layout()\n",
        "# plt.savefig('images/05_14.png', dpi=300)\n",
        "plt.show()"
      ],
      "execution_count": 0,
      "outputs": [
        {
          "output_type": "stream",
          "text": [
            "/usr/local/lib/python3.6/dist-packages/ipykernel_launcher.py:48: FutureWarning: arrays to stack must be passed as a \"sequence\" type such as list or tuple. Support for non-sequence iterables such as generators is deprecated as of NumPy 1.16 and will raise an error in the future.\n"
          ],
          "name": "stderr"
        },
        {
          "output_type": "display_data",
          "data": {
            "image/png": "[encoded data removed]",
            "text/plain": [
              "<Figure size 504x216 with 2 Axes>"
            ]
          },
          "metadata": {
            "tags": []
          }
        }
      ]
    },
    {
      "cell_type": "markdown",
      "metadata": {
        "id": "gDrx6dG2yuIK",
        "colab_type": "text"
      },
      "source": [
        "# カーネル主成分で同心円を処理しよう\n",
        "下記のセルはただのデータ生成"
      ]
    },
    {
      "cell_type": "code",
      "metadata": {
        "id": "LH_2RteNlFpo",
        "colab_type": "code",
        "outputId": "656b0152-f94c-483a-b7c1-4c5a9323c117",
        "colab": {
          "base_uri": "https://localhost:8080/",
          "height": 297
        }
      },
      "source": [
        "from sklearn.datasets import make_circles\n",
        "\n",
        "X, y = make_circles(n_samples=1000, random_state=123, noise=0.1, factor=0.2)\n",
        "\n",
        "plt.scatter(X[y == 0, 0], X[y == 0, 1], color='red', marker='^', alpha=0.5)\n",
        "plt.scatter(X[y == 1, 0], X[y == 1, 1], color='blue', marker='o', alpha=0.5)\n",
        "\n",
        "plt.tight_layout()\n",
        "# plt.savefig('images/05_15.png', dpi=300)\n",
        "plt.show()"
      ],
      "execution_count": 0,
      "outputs": [
        {
          "output_type": "display_data",
          "data": {
            "image/png": "[encoded data removed]",
            "text/plain": [
              "<Figure size 432x288 with 1 Axes>"
            ]
          },
          "metadata": {
            "tags": []
          }
        }
      ]
    },
    {
      "cell_type": "markdown",
      "metadata": {
        "id": "PDRWxasKy-Ma",
        "colab_type": "text"
      },
      "source": [
        "# 例によって普通の主成分でやってみよう"
      ]
    },
    {
      "cell_type": "code",
      "metadata": {
        "id": "hivrO1c2lJLH",
        "colab_type": "code",
        "outputId": "9ae63aa3-5eed-4205-ec9a-baa53c481e32",
        "colab": {
          "base_uri": "https://localhost:8080/",
          "height": 225
        }
      },
      "source": [
        "scikit_pca = PCA(n_components=2)\n",
        "X_spca = scikit_pca.fit_transform(X)\n",
        "\n",
        "fig, ax = plt.subplots(nrows=1, ncols=2, figsize=(7, 3))\n",
        "\n",
        "ax[0].scatter(X_spca[y == 0, 0], X_spca[y == 0, 1],\n",
        "              color='red', marker='^', alpha=0.5)\n",
        "ax[0].scatter(X_spca[y == 1, 0], X_spca[y == 1, 1],\n",
        "              color='blue', marker='o', alpha=0.5)\n",
        "\n",
        "ax[1].scatter(X_spca[y == 0, 0], np.zeros((500, 1)) + 0.02,\n",
        "              color='red', marker='^', alpha=0.5)\n",
        "ax[1].scatter(X_spca[y == 1, 0], np.zeros((500, 1)) - 0.02,\n",
        "              color='blue', marker='o', alpha=0.5)\n",
        "\n",
        "ax[0].set_xlabel('PC1')\n",
        "ax[0].set_ylabel('PC2')\n",
        "ax[1].set_ylim([-1, 1])\n",
        "ax[1].set_yticks([])\n",
        "ax[1].set_xlabel('PC1')\n",
        "\n",
        "plt.tight_layout()\n",
        "# plt.savefig('images/05_16.png', dpi=300)\n",
        "plt.show()"
      ],
      "execution_count": 0,
      "outputs": [
        {
          "output_type": "display_data",
          "data": {
            "image/png": "[encoded data removed]",
            "text/plain": [
              "<Figure size 504x216 with 2 Axes>"
            ]
          },
          "metadata": {
            "tags": []
          }
        }
      ]
    },
    {
      "cell_type": "markdown",
      "metadata": {
        "id": "HbnH7W5VziLn",
        "colab_type": "text"
      },
      "source": [
        "#  カーネル主成分で処理をしてみよう"
      ]
    },
    {
      "cell_type": "code",
      "metadata": {
        "id": "X_uEOyXblNGM",
        "colab_type": "code",
        "outputId": "c37a32ed-600f-4e8e-bdb9-76f577ef0e4f",
        "colab": {
          "base_uri": "https://localhost:8080/",
          "height": 262
        }
      },
      "source": [
        "X_kpca = rbf_kernel_pca(X, gamma=15, n_components=2)\n",
        "\n",
        "fig, ax = plt.subplots(nrows=1, ncols=2, figsize=(7, 3))\n",
        "ax[0].scatter(X_kpca[y == 0, 0], X_kpca[y == 0, 1],\n",
        "              color='red', marker='^', alpha=0.5)\n",
        "ax[0].scatter(X_kpca[y == 1, 0], X_kpca[y == 1, 1],\n",
        "              color='blue', marker='o', alpha=0.5)\n",
        "\n",
        "ax[1].scatter(X_kpca[y == 0, 0], np.zeros((500, 1)) + 0.02,\n",
        "              color='red', marker='^', alpha=0.5)\n",
        "ax[1].scatter(X_kpca[y == 1, 0], np.zeros((500, 1)) - 0.02,\n",
        "              color='blue', marker='o', alpha=0.5)\n",
        "\n",
        "ax[0].set_xlabel('PC1')\n",
        "ax[0].set_ylabel('PC2')\n",
        "ax[1].set_ylim([-1, 1])\n",
        "ax[1].set_yticks([])\n",
        "ax[1].set_xlabel('PC1')\n",
        "\n",
        "plt.tight_layout()\n",
        "# plt.savefig('images/05_17.png', dpi=300)\n",
        "plt.show()\n"
      ],
      "execution_count": 0,
      "outputs": [
        {
          "output_type": "stream",
          "text": [
            "/usr/local/lib/python3.6/dist-packages/ipykernel_launcher.py:48: FutureWarning: arrays to stack must be passed as a \"sequence\" type such as list or tuple. Support for non-sequence iterables such as generators is deprecated as of NumPy 1.16 and will raise an error in the future.\n"
          ],
          "name": "stderr"
        },
        {
          "output_type": "display_data",
          "data": {
            "image/png": "[encoded data removed]",
            "text/plain": [
              "<Figure size 504x216 with 2 Axes>"
            ]
          },
          "metadata": {
            "tags": []
          }
        }
      ]
    },
    {
      "cell_type": "markdown",
      "metadata": {
        "id": "wTg0ZoRGzvXy",
        "colab_type": "text"
      },
      "source": [
        "# 5.3.3 新しいデータ点を射影する。\n",
        "さっきの主成分は1つのデータセットを新しい特徴量に射影しました。<br>\n",
        "実際のデータ分析では訓練データとテストデータの様に、<br>\n",
        "射影したいデータが２つ以上ある場合がある。<br>\n",
        "<br>\n",
        "普通の主成分分析では変換行列と入力サンプルの内積を計算することでデータを射影した。<br>\n",
        "カーネル主成分分析ではどのように、それらの処理を行うのか。"
      ]
    },
    {
      "cell_type": "code",
      "metadata": {
        "id": "7b9d8R3mlSzT",
        "colab_type": "code",
        "colab": {}
      },
      "source": [
        "from scipy.spatial.distance import pdist, squareform\n",
        "from scipy import exp\n",
        "from scipy.linalg import eigh\n",
        "import numpy as np\n",
        "\n",
        "def rbf_kernel_pca(X, gamma, n_components):\n",
        "    \"\"\"\n",
        "    RBF kernel PCA implementation.\n",
        "\n",
        "    Parameters\n",
        "    ------------\n",
        "    X: {NumPy ndarray}, shape = [n_samples, n_features]\n",
        "        \n",
        "    gamma: float\n",
        "      Tuning parameter of the RBF kernel\n",
        "        \n",
        "    n_components: int\n",
        "      Number of principal components to return\n",
        "\n",
        "    Returns\n",
        "    ------------\n",
        "     alphas: {NumPy ndarray}, shape = [n_samples, k_features]\n",
        "       Projected dataset \n",
        "     \n",
        "     lambdas: list\n",
        "       Eigenvalues\n",
        "\n",
        "    \"\"\"\n",
        "    # Calculate pairwise squared Euclidean distances\n",
        "    # in the MxN dimensional dataset.\n",
        "    sq_dists = pdist(X, 'sqeuclidean')\n",
        "\n",
        "    # Convert pairwise distances into a square matrix.\n",
        "    mat_sq_dists = squareform(sq_dists)\n",
        "\n",
        "    # Compute the symmetric kernel matrix.\n",
        "    K = exp(-gamma * mat_sq_dists)\n",
        "\n",
        "    # Center the kernel matrix.\n",
        "    N = K.shape[0]\n",
        "    one_n = np.ones((N, N)) / N\n",
        "    K = K - one_n.dot(K) - K.dot(one_n) + one_n.dot(K).dot(one_n)\n",
        "\n",
        "    # Obtaining eigenpairs from the centered kernel matrix\n",
        "    # scipy.linalg.eigh returns them in ascending order\n",
        "    eigvals, eigvecs = eigh(K)\n",
        "    eigvals, eigvecs = eigvals[::-1], eigvecs[:, ::-1]\n",
        "\n",
        "    # Collect the top k eigenvectors (projected samples)\n",
        "    alphas = np.column_stack((eigvecs[:, i]\n",
        "                              for i in range(n_components)))\n",
        "\n",
        "    # Collect the corresponding eigenvalues\n",
        "    lambdas = [eigvals[i] for i in range(n_components)]\n",
        "\n",
        "    return alphas, lambdas"
      ],
      "execution_count": 0,
      "outputs": []
    },
    {
      "cell_type": "code",
      "metadata": {
        "id": "C3ahNKdLlYZv",
        "colab_type": "code",
        "outputId": "7d235b80-b6d5-4904-d513-0fc66bcc5328",
        "colab": {
          "base_uri": "https://localhost:8080/",
          "height": 54
        }
      },
      "source": [
        "X, y = make_moons(n_samples=100, random_state=123)\n",
        "alphas, lambdas = rbf_kernel_pca(X, gamma=15, n_components=1)"
      ],
      "execution_count": 0,
      "outputs": [
        {
          "output_type": "stream",
          "text": [
            "/usr/local/lib/python3.6/dist-packages/ipykernel_launcher.py:51: FutureWarning: arrays to stack must be passed as a \"sequence\" type such as list or tuple. Support for non-sequence iterables such as generators is deprecated as of NumPy 1.16 and will raise an error in the future.\n"
          ],
          "name": "stderr"
        }
      ]
    },
    {
      "cell_type": "code",
      "metadata": {
        "id": "5cyk8Gi2la67",
        "colab_type": "code",
        "outputId": "e8f02de9-7802-491d-8d44-96c35dbc7045",
        "colab": {
          "base_uri": "https://localhost:8080/",
          "height": 34
        }
      },
      "source": [
        "x_new = X[25]\n",
        "x_new"
      ],
      "execution_count": 0,
      "outputs": [
        {
          "output_type": "execute_result",
          "data": {
            "text/plain": [
              "array([1.8713, 0.0093])"
            ]
          },
          "metadata": {
            "tags": []
          },
          "execution_count": 49
        }
      ]
    },
    {
      "cell_type": "code",
      "metadata": {
        "id": "wvR6oP2Lld2Z",
        "colab_type": "code",
        "outputId": "ac3fbabb-a275-4e70-fa22-691fbf0b00df",
        "colab": {
          "base_uri": "https://localhost:8080/",
          "height": 34
        }
      },
      "source": [
        "x_proj = alphas[25] # original projection\n",
        "x_proj"
      ],
      "execution_count": 0,
      "outputs": [
        {
          "output_type": "execute_result",
          "data": {
            "text/plain": [
              "array([0.0788])"
            ]
          },
          "metadata": {
            "tags": []
          },
          "execution_count": 50
        }
      ]
    },
    {
      "cell_type": "code",
      "metadata": {
        "id": "INb_1u9UleSa",
        "colab_type": "code",
        "outputId": "e7a6aad6-1b17-4015-de0e-a691c1becf3c",
        "colab": {
          "base_uri": "https://localhost:8080/",
          "height": 34
        }
      },
      "source": [
        "def project_x(x_new, X, gamma, alphas, lambdas):\n",
        "    pair_dist = np.array([np.sum((x_new - row)**2) for row in X])\n",
        "    k = np.exp(-gamma * pair_dist)\n",
        "    return k.dot(alphas / lambdas)\n",
        "\n",
        "# projection of the \"new\" datapoint\n",
        "x_reproj = project_x(x_new, X, gamma=15, alphas=alphas, lambdas=lambdas)\n",
        "x_reproj"
      ],
      "execution_count": 0,
      "outputs": [
        {
          "output_type": "execute_result",
          "data": {
            "text/plain": [
              "array([0.0788])"
            ]
          },
          "metadata": {
            "tags": []
          },
          "execution_count": 51
        }
      ]
    },
    {
      "cell_type": "code",
      "metadata": {
        "id": "Prk7Kvgclk5U",
        "colab_type": "code",
        "outputId": "7ea43d2b-e47d-42d4-d766-abec17c68031",
        "colab": {
          "base_uri": "https://localhost:8080/",
          "height": 297
        }
      },
      "source": [
        "plt.scatter(alphas[y == 0, 0], np.zeros((50)),\n",
        "            color='red', marker='^', alpha=0.5)\n",
        "plt.scatter(alphas[y == 1, 0], np.zeros((50)),\n",
        "            color='blue', marker='o', alpha=0.5)\n",
        "plt.scatter(x_proj, 0, color='black',\n",
        "            label='original projection of point X[25]', marker='^', s=100)\n",
        "plt.scatter(x_reproj, 0, color='green',\n",
        "            label='remapped point X[25]', marker='x', s=500)\n",
        "plt.legend(scatterpoints=1)\n",
        "\n",
        "plt.tight_layout()\n",
        "# plt.savefig('images/05_18.png', dpi=300)\n",
        "plt.show()"
      ],
      "execution_count": 0,
      "outputs": [
        {
          "output_type": "display_data",
          "data": {
            "image/png": "[encoded data removed]",
            "text/plain": [
              "<Figure size 432x288 with 1 Axes>"
            ]
          },
          "metadata": {
            "tags": []
          }
        }
      ]
    },
    {
      "cell_type": "code",
      "metadata": {
        "id": "8Ij9AGy1lktL",
        "colab_type": "code",
        "outputId": "81846895-abf5-446b-d4e6-48935935bedc",
        "colab": {
          "base_uri": "https://localhost:8080/",
          "height": 297
        }
      },
      "source": [
        "from sklearn.decomposition import KernelPCA\n",
        "\n",
        "X, y = make_moons(n_samples=100, random_state=123)\n",
        "scikit_kpca = KernelPCA(n_components=2, kernel='rbf', gamma=15)\n",
        "X_skernpca = scikit_kpca.fit_transform(X)\n",
        "\n",
        "plt.scatter(X_skernpca[y == 0, 0], X_skernpca[y == 0, 1],\n",
        "            color='red', marker='^', alpha=0.5)\n",
        "plt.scatter(X_skernpca[y == 1, 0], X_skernpca[y == 1, 1],\n",
        "            color='blue', marker='o', alpha=0.5)\n",
        "\n",
        "plt.xlabel('PC1')\n",
        "plt.ylabel('PC2')\n",
        "plt.tight_layout()\n",
        "# plt.savefig('images/05_19.png', dpi=300)\n",
        "plt.show()"
      ],
      "execution_count": 0,
      "outputs": [
        {
          "output_type": "display_data",
          "data": {
            "image/png": "[encoded data removed]",
            "text/plain": [
              "<Figure size 432x288 with 1 Axes>"
            ]
          },
          "metadata": {
            "tags": []
          }
        }
      ]
    }
  ]
}