{
 "cells": [
  {
   "cell_type": "markdown",
   "metadata": {},
   "source": [
    "# ch09 Tobita Memo"
   ]
  },
  {
   "cell_type": "markdown",
   "metadata": {},
   "source": [
    "*********"
   ]
  },
  {
   "cell_type": "markdown",
   "metadata": {},
   "source": [
    "## Pickle\n",
    "pythonオブジェクトを永続化するライブラリ。<br>\n",
    "プログラム実行終了後もオブジェクトを保存したいならこれ。<br>\n",
    "本章では機械学習モデルの保存と読み込みに使用する。\n",
    "#### pickleでの保存\n",
    "`pickle.dump`で保存が可能"
   ]
  },
  {
   "cell_type": "code",
   "execution_count": 7,
   "metadata": {},
   "outputs": [],
   "source": [
    "import pickle\n",
    "\n",
    "pickle.dump(Pythonオブジェクト, ファイル名)"
   ]
  },
  {
   "cell_type": "markdown",
   "metadata": {},
   "source": [
    "#### pickleでの読み込み\n",
    "`pickle.load`で読み込みが可能"
   ]
  },
  {
   "cell_type": "code",
   "execution_count": null,
   "metadata": {},
   "outputs": [],
   "source": [
    "import pickle\n",
    "\n",
    "pickle.load(ファイル):"
   ]
  },
  {
   "cell_type": "markdown",
   "metadata": {},
   "source": [
    "#### 実際に使用してみる"
   ]
  },
  {
   "cell_type": "code",
   "execution_count": 14,
   "metadata": {},
   "outputs": [],
   "source": [
    "import pickle \n",
    "\n",
    "pyobject = [i for i in range(0,10000,100)]\n",
    "\n",
    "with open('pickletest.weeyble', 'wb') as web:\n",
    "    pickle.dump(pyobject , web)"
   ]
  },
  {
   "cell_type": "code",
   "execution_count": 15,
   "metadata": {},
   "outputs": [
    {
     "name": "stdout",
     "output_type": "stream",
     "text": [
      "[0, 100, 200, 300, 400, 500, 600, 700, 800, 900, 1000, 1100, 1200, 1300, 1400, 1500, 1600, 1700, 1800, 1900, 2000, 2100, 2200, 2300, 2400, 2500, 2600, 2700, 2800, 2900, 3000, 3100, 3200, 3300, 3400, 3500, 3600, 3700, 3800, 3900, 4000, 4100, 4200, 4300, 4400, 4500, 4600, 4700, 4800, 4900, 5000, 5100, 5200, 5300, 5400, 5500, 5600, 5700, 5800, 5900, 6000, 6100, 6200, 6300, 6400, 6500, 6600, 6700, 6800, 6900, 7000, 7100, 7200, 7300, 7400, 7500, 7600, 7700, 7800, 7900, 8000, 8100, 8200, 8300, 8400, 8500, 8600, 8700, 8800, 8900, 9000, 9100, 9200, 9300, 9400, 9500, 9600, 9700, 9800, 9900]\n"
     ]
    }
   ],
   "source": [
    "import pickle\n",
    "with open('pickletest.weeyble', 'rb') as web:\n",
    "    pyobject_1 = pickle.load(web)\n",
    "    print(pyobject_1)"
   ]
  },
  {
   "cell_type": "markdown",
   "metadata": {},
   "source": [
    "それでは今回の機械学習モデルをpickleで保存しよう<br>"
   ]
  },
  {
   "cell_type": "code",
   "execution_count": null,
   "metadata": {},
   "outputs": [],
   "source": [
    "import pickle\n",
    "import os\n",
    "\n",
    "# 保存用のディレクトリを作成している\n",
    "dest = os.path.join('movieclassifier', 'pkl_objects')\n",
    "if not os.path.exists(dest):\n",
    "    os.makedirs(dest)\n",
    "\n",
    "# ここからがpickle。\n",
    "# (シリアライズされる対象, 書き込み先, pickleプロトコルを指定)\n",
    "# python3.4以上と互換性があるらしい\n",
    "pickle.dump(stop, open(os.path.join(dest, 'stopwords.pkl'), 'wb'), protocol=4)   \n",
    "pickle.dump(clf, open(os.path.join(dest, 'classifier.pkl'), 'wb'), protocol=4)"
   ]
  },
  {
   "cell_type": "markdown",
   "metadata": {},
   "source": [
    "***********"
   ]
  },
  {
   "cell_type": "markdown",
   "metadata": {},
   "source": [
    "## sqlite3\n",
    "PythonでSQLliteがかける。すっごい。"
   ]
  },
  {
   "cell_type": "markdown",
   "metadata": {},
   "source": [
    "#### データベースの新規作成、アクセス"
   ]
  },
  {
   "cell_type": "code",
   "execution_count": null,
   "metadata": {},
   "outputs": [],
   "source": [
    "con = sqlite3.connect(データベース名)"
   ]
  },
  {
   "cell_type": "markdown",
   "metadata": {},
   "source": [
    "#### カーソルオブジェクトの作成"
   ]
  },
  {
   "cell_type": "code",
   "execution_count": null,
   "metadata": {},
   "outputs": [],
   "source": [
    "consor = con.cursor()"
   ]
  },
  {
   "cell_type": "markdown",
   "metadata": {},
   "source": [
    "#### テーブルの作成"
   ]
  },
  {
   "cell_type": "code",
   "execution_count": 16,
   "metadata": {},
   "outputs": [],
   "source": [
    "cursor.execute(\"CREATE TABLE data_set(id, name, date)\")\n",
    "cursor.execute(\"INSERT INTO data_set VALUES(1, 'saito', 19980810)\")"
   ]
  },
  {
   "cell_type": "markdown",
   "metadata": {},
   "source": [
    "今回のSQLiteの場合は‥‥"
   ]
  },
  {
   "cell_type": "markdown",
   "metadata": {},
   "source": [
    "## Flask\n",
    "PythonのWebフレームワーク。<br>\n",
    "他にもDjangoなどWebフレームワークはあるが、<br>\n",
    "Flaskは「マイクロフレームワーク」と呼ばれ、シンプルな使用感である<br>\n",
    "<br>\n",
    "また、Flaskは公式のドキュメントが日本語に翻訳されており、<bR>\n",
    "非常に分かりやすいため、Flaskへの理解を深めたいという方は<br>\n",
    "一読されるのも悪くないだろう。[Link](https://a2c.bitbucket.io/flask/)<br>\n",
    "<br>    \n",
    "本ファイルではjupyter環境で説明しているが、<br>\n",
    "Flaskは複数のディレクトリを跨って使用するものであるため、<br>\n",
    "皆さんが実行される際はVScodeなどたのIDEを使用されることをオススメする。\n",
    "****\n",
    "Flaskは基本的なライブラリではない。<br>\n",
    "例によって`pip install`をしていただきたい。"
   ]
  },
  {
   "cell_type": "code",
   "execution_count": 18,
   "metadata": {},
   "outputs": [
    {
     "name": "stdout",
     "output_type": "stream",
     "text": [
      "Requirement already satisfied: flask in /opt/conda/lib/python3.7/site-packages (1.1.1)\n",
      "Requirement already satisfied: Jinja2>=2.10.1 in /opt/conda/lib/python3.7/site-packages (from flask) (2.10.1)\n",
      "Requirement already satisfied: Werkzeug>=0.15 in /opt/conda/lib/python3.7/site-packages (from flask) (0.15.6)\n",
      "Requirement already satisfied: click>=5.1 in /opt/conda/lib/python3.7/site-packages (from flask) (7.0)\n",
      "Requirement already satisfied: itsdangerous>=0.24 in /opt/conda/lib/python3.7/site-packages (from flask) (1.1.0)\n",
      "Requirement already satisfied: MarkupSafe>=0.23 in /opt/conda/lib/python3.7/site-packages (from Jinja2>=2.10.1->flask) (1.1.1)\n"
     ]
    }
   ],
   "source": [
    "!pip install flask"
   ]
  },
  {
   "cell_type": "markdown",
   "metadata": {},
   "source": [
    "最小規模のアプリケーション例を下記セルに提示する。<br>\n",
    "このファイルに`hello.py`のような、それっぽい名前をつけていただきたい。<br>\n",
    "なお、`flask.py`という名称はFlask自体のフィアルと競合してしまうので注意していただきたい。"
   ]
  },
  {
   "cell_type": "code",
   "execution_count": null,
   "metadata": {},
   "outputs": [],
   "source": [
    "# hello.py\n",
    "\n",
    "from flask import Flask\n",
    "app = Flask(__name__)\n",
    "\n",
    "@app.route('/')\n",
    "def hello_world():\n",
    "    return \"Hello World!\"\n",
    "\n",
    "if __name__ == '__main__':\n",
    "    app.run()"
   ]
  },
  {
   "cell_type": "markdown",
   "metadata": {},
   "source": [
    "`hello.py`を作成したら、ターミナルでPythonファイルを実行する。<br>\n",
    "すると……"
   ]
  },
  {
   "cell_type": "code",
   "execution_count": 19,
   "metadata": {},
   "outputs": [
    {
     "name": "stdout",
     "output_type": "stream",
     "text": [
      " * Serving Flask app \"hello\" (lazy loading)\n",
      " * Environment: production\n",
      "\u001b[31m   WARNING: This is a development server. Do not use it in a production deployment.\u001b[0m\n",
      "\u001b[2m   Use a production WSGI server instead.\u001b[0m\n",
      " * Debug mode: off\n",
      " * Running on http://127.0.0.1:5000/ (Press CTRL+C to quit)\n",
      "^C\n"
     ]
    }
   ],
   "source": [
    "!python3 hello.py"
   ]
  },
  {
   "cell_type": "markdown",
   "metadata": {},
   "source": [
    "上記のようにローカルサーバーのアドレスが表示される。<br>\n",
    "このアドレスにWebブラウザからアクセスすると「Hello World!」と表示されることであろう。<br>\n",
    "***\n",
    "#### 曲解！Flackで何が起きているのか？\n",
    "1. `import flask`でFlaskのインポートを行う。\n",
    "1. `app = Flask(__name__)`で起動したときの名前とインポートされてたときの名前を揃えます。<br>`__name__`は特殊な変数であり、インポート時に使用した名称が自動的に当てられます。<br>\n",
    "1. `route()`デコレーターを使用して、起動するURLをFlaskに教える。\n",
    "\n",
    "<br>\n",
    "サーバーを止めたい場合は`Ctr+c`を押してください。"
   ]
  },
  {
   "cell_type": "markdown",
   "metadata": {},
   "source": [
    "***\n",
    "## 1st_flask_app_2 の中身\n",
    "先程の1st_flask_app(以下、app1)は最もシンプルなFlaskアプリケーションだった。<br>\n",
    "これから学んでいく1st_frask_app_2(以下、app2)は、<br>\n",
    "app1にCSSやJinjaテンプレートなどを使用し、<br>\n",
    "応用的な使用について説明している。<br>\n",
    "app1で学んだ事項を元に理解していこう。\n",
    "#### wtforms\n",
    "ユーザーからのデータ収集にwtformsを利用する。<br>\n",
    "\n",
    "使用の際は`pip install`などで事前に準備してください。"
   ]
  },
  {
   "cell_type": "markdown",
   "metadata": {},
   "source": [
    "#### 1st_flask_app2/app.py\n",
    "`@route`をご覧いただきたい。\n",
    "app1では`'/'`のみであったが、今回は「Hello <名前>」と答えるために複数のディレクトリが用意されている。\n",
    "2つめの`@app.route('/hello')"
   ]
  },
  {
   "cell_type": "code",
   "execution_count": null,
   "metadata": {},
   "outputs": [],
   "source": [
    "from flask import Flask, render_template, request\n",
    "from wtforms import Form, TextAreaField, validators\n",
    "\n",
    "app = Flask(__name__)\n",
    "\n",
    "class HelloForm(Form):\n",
    "    sayhello = TextAreaField('',[validators.DataRequired()])\n",
    "\n",
    "@app.route('/')\n",
    "def index():\n",
    "    form = HelloForm(request.form)\n",
    "    return render_template('first_app.html', form=form)\n",
    "\n",
    "@app.route('/hello', methods=['POST'])\n",
    "def hello():\n",
    "    form = HelloForm(request.form)\n",
    "    if request.method == 'POST' and form.validate():\n",
    "        name = request.form['sayhello']\n",
    "        return render_template('hello.html', name=name)\n",
    "    return render_template('first_app.html', form=form)\n",
    "\n",
    "if __name__ == '__main__':\n",
    "    app.run(debug=True)"
   ]
  },
  {
   "cell_type": "markdown",
   "metadata": {},
   "source": [
    "1st_flask_app2/templates/\\_formhelpers.html"
   ]
  },
  {
   "cell_type": "code",
   "execution_count": null,
   "metadata": {},
   "outputs": [],
   "source": [
    "{% macro render_field(field) %}\n",
    "  <dt>{{ field.label }}\n",
    "  <dd>{{ field(**kwargs)|safe }}\n",
    "  {% if field.errors %}\n",
    "    <ul class=errors>\n",
    "    {% for error in field.errors %}\n",
    "      <li>{{ error }}</li>\n",
    "    {% endfor %}\n",
    "    </ul>\n",
    "  {% endif %}\n",
    "  </dd>\n",
    "  </dt>\n",
    "{% endmacro %}"
   ]
  },
  {
   "cell_type": "markdown",
   "metadata": {},
   "source": [
    "1st_flask_app2/static/style.css"
   ]
  },
  {
   "cell_type": "code",
   "execution_count": null,
   "metadata": {},
   "outputs": [],
   "source": [
    "body {\n",
    "\tfont-size: 2em;\n",
    "}"
   ]
  },
  {
   "cell_type": "markdown",
   "metadata": {},
   "source": [
    "1st_flask_app2/templates/first_app.html"
   ]
  },
  {
   "cell_type": "code",
   "execution_count": null,
   "metadata": {},
   "outputs": [],
   "source": [
    "<!doctype html>\n",
    "<html>\n",
    "  <head>\n",
    "    <title>First app</title>\n",
    "\t<link rel=\"stylesheet\" href=\"{{ url_for('static', filename='style.css') }}\">\n",
    "  </head>\n",
    "  <body>\n",
    "\n",
    "{% from \"_formhelpers.html\" import render_field %}\n",
    "\n",
    "<div>What's your name?</div>\n",
    "<form method=post action=\"/hello\">\n",
    "\n",
    "  <dl>\n",
    "\t  {{ render_field(form.sayhello) }}\n",
    "  </dl>\n",
    "\n",
    "  <input type=submit value='Say Hello' name='submit_btn'>\n",
    "\n",
    "</form>\n",
    "\n",
    "  </body>\n",
    "</html>"
   ]
  },
  {
   "cell_type": "markdown",
   "metadata": {},
   "source": [
    "1st_flask_app_2/templates/hello.html"
   ]
  },
  {
   "cell_type": "markdown",
   "metadata": {},
   "source": [
    "<!doctype html>\n",
    "<html>\n",
    "  <head>\n",
    "    <title>First app</title>\n",
    "\t<link rel=\"stylesheet\" href=\"{{ url_for('static', filename='style.css') }}\">\n",
    "  </head>\n",
    "  <body>\n",
    "\n",
    "<div>Hello {{ name }}</div>\n",
    "\n",
    "\n",
    "  </body>\n",
    "</html>"
   ]
  },
  {
   "cell_type": "markdown",
   "metadata": {},
   "source": [
    "#### 映画レビュー分類器を実装"
   ]
  },
  {
   "cell_type": "markdown",
   "metadata": {},
   "source": [
    "movieclassifier  \n",
    "|-- app.py  \n",
    "|-- pkl_objects  \n",
    "|   |-- classifier.pkl  \n",
    "|   `-- stopwords.pkl  \n",
    "|-- reviews.sqlite  \n",
    "|-- static  \n",
    "|   `-- style.css  \n",
    "|-- templates  \n",
    "|   |-- _formhelpers.html  \n",
    "|   |-- results.html  \n",
    "|   |-- reviewform.html  \n",
    "|   `-- thanks.html  \n",
    "`-- vectorizer.py  \n"
   ]
  },
  {
   "cell_type": "code",
   "execution_count": null,
   "metadata": {},
   "outputs": [],
   "source": [
    "from flask import Flask, render_template, request\n",
    "from wtforms import Form, TextAreaField, validators\n",
    "import pickle\n",
    "import sqlite3\n",
    "import os\n",
    "import numpy as np\n",
    "\n",
    "# import HashingVectorizer from local dir\n",
    "from vectorizer import vect\n",
    "\n",
    "app = Flask(__name__)\n",
    "\n",
    "######## Preparing the Classifier\n",
    "cur_dir = os.path.dirname(__file__)\n",
    "clf = pickle.load(open(os.path.join(cur_dir,\n",
    "                 'pkl_objects',\n",
    "                 'classifier.pkl'), 'rb'))\n",
    "db = os.path.join(cur_dir, 'reviews.sqlite')\n",
    "\n",
    "def classify(document):\n",
    "    label = {0: 'negative', 1: 'positive'}\n",
    "    X = vect.transform([document])\n",
    "    y = clf.predict(X)[0]\n",
    "    proba = np.max(clf.predict_proba(X))\n",
    "    return label[y], proba\n",
    "\n",
    "def train(document, y):\n",
    "    X = vect.transform([document])\n",
    "    clf.partial_fit(X, [y])\n",
    "\n",
    "def sqlite_entry(path, document, y):\n",
    "    conn = sqlite3.connect(path)\n",
    "    c = conn.cursor()\n",
    "    c.execute(\"INSERT INTO review_db (review, sentiment, date)\"\\\n",
    "    \" VALUES (?, ?, DATETIME('now'))\", (document, y))\n",
    "    conn.commit()\n",
    "    conn.close()\n",
    "\n",
    "######## Flask\n",
    "class ReviewForm(Form):\n",
    "    moviereview = TextAreaField('',\n",
    "                                [validators.DataRequired(),\n",
    "                                validators.length(min=15)])\n",
    "\n",
    "@app.route('/')\n",
    "def index():\n",
    "    form = ReviewForm(request.form)\n",
    "    return render_template('reviewform.html', form=form)\n",
    "\n",
    "@app.route('/results', methods=['POST'])\n",
    "def results():\n",
    "    form = ReviewForm(request.form)\n",
    "    if request.method == 'POST' and form.validate():\n",
    "        review = request.form['moviereview']\n",
    "        y, proba = classify(review)\n",
    "        return render_template('results.html',\n",
    "                                content=review,\n",
    "                                prediction=y,\n",
    "                                probability=round(proba*100, 2))\n",
    "    return render_template('reviewform.html', form=form)\n",
    "\n",
    "@app.route('/thanks', methods=['POST'])\n",
    "def feedback():\n",
    "    feedback = request.form['feedback_button']\n",
    "    review = request.form['review']\n",
    "    prediction = request.form['prediction']\n",
    "\n",
    "    inv_label = {'negative': 0, 'positive': 1}\n",
    "    y = inv_label[prediction]\n",
    "    if feedback == 'Incorrect':\n",
    "        y = int(not(y))\n",
    "    train(review, y)\n",
    "    sqlite_entry(db, review, y)\n",
    "    return render_template('thanks.html')\n",
    "\n",
    "if __name__ == '__main__':\n",
    "    app.run(debug=True)\n"
   ]
  },
  {
   "cell_type": "markdown",
   "metadata": {},
   "source": [
    "movieclassifier/templates/reviewform.html"
   ]
  },
  {
   "cell_type": "code",
   "execution_count": null,
   "metadata": {},
   "outputs": [],
   "source": [
    "<!doctype html>\n",
    "<html>\n",
    "  <head>\n",
    "    <title>Movie Classification</title>\n",
    "\t<link rel=\"stylesheet\" href=\"{{ url_for('static', filename='style.css') }}\">\n",
    "  </head>\n",
    "  <body>\n",
    "\n",
    "<h2>Please enter your movie review:</h2>\n",
    "\n",
    "{% from \"_formhelpers.html\" import render_field %}\n",
    "\n",
    "<form method=post action=\"/results\">\n",
    "  <dl>\n",
    "\t{{ render_field(form.moviereview, cols='30', rows='10') }}\n",
    "  </dl>\n",
    "  <div>\n",
    "\t  <input type=submit value='Submit review' name='submit_btn'>\n",
    "  </div>\n",
    "</form>\n",
    "\n",
    "  </body>\n",
    "</html>"
   ]
  },
  {
   "cell_type": "markdown",
   "metadata": {},
   "source": [
    "movieclassifier/templates/results.html"
   ]
  },
  {
   "cell_type": "code",
   "execution_count": null,
   "metadata": {},
   "outputs": [],
   "source": [
    "<!doctype html>\n",
    "<html>\n",
    "  <head>\n",
    "    <title>Movie Classification</title>\n",
    "\t<link rel=\"stylesheet\" href=\"{{ url_for('static', filename='style.css') }}\">\n",
    "  </head>\n",
    "  <body>\n",
    "\n",
    "<h3>Your movie review:</h3>\n",
    "<div>{{ content }}</div>\n",
    "\n",
    "<h3>Prediction:</h3>\n",
    "<div>This movie review is <strong>{{ prediction }}</strong>\n",
    "\t (probability: {{ probability }}%).</div>\n",
    "\n",
    "<div id='button'>\n",
    "\t  <form action=\"/thanks\" method=\"post\">\n",
    "\t    <input type=submit value='Correct' name='feedback_button'>\n",
    "\t\t<input type=submit value='Incorrect' name='feedback_button'>\n",
    "\t\t<input type=hidden value='{{ prediction }}' name='prediction'>\n",
    "\t\t<input type=hidden value='{{ content }}' name='review'>\n",
    "\t  </form>\n",
    "</div>\n",
    "\n",
    "<div id='button'>\n",
    "\t  <form action=\"/\">\n",
    "\t    <input type=submit value='Submit another review'>\n",
    "\t  </form>\n",
    "</div>\n",
    "\n",
    "  </body>\n",
    "</html>"
   ]
  },
  {
   "cell_type": "markdown",
   "metadata": {},
   "source": [
    "movieclassifier/templates/thanks.html"
   ]
  },
  {
   "cell_type": "code",
   "execution_count": null,
   "metadata": {},
   "outputs": [],
   "source": [
    "<!doctype html>\n",
    "<html>\n",
    "  <head>\n",
    "    <title>Movie Classification</title>\n",
    "\t<link rel=\"stylesheet\" href=\"{{ url_for('static', filename='style.css') }}\">\n",
    "  </head>\n",
    "  <body>\n",
    "\n",
    "<h3>Thank you for your feedback!</h3>\n",
    "\n",
    "<div id='button'>\n",
    "\t  <form action=\"/\">\n",
    "\t    <input type=submit value='Submit another review'>\n",
    "\t  </form>\n",
    "</div>\n",
    "\n",
    "  </body>\n",
    "</html>"
   ]
  },
  {
   "cell_type": "markdown",
   "metadata": {},
   "source": [
    "## PythonAnywhere\n",
    "Python環境がインストールされているクラウド環境を提供している。<br>\n",
    "DjangoのチュートリアルもPythonAnywhereを使用しているらしい。<br>\n",
    "Beginer lisenceは無料らしい。\n",
    "\n",
    "**points!**<br>\n",
    "`Files`で作成したファイルを`Web`で設定する。"
   ]
  }
 ],
 "metadata": {
  "kernelspec": {
   "display_name": "Python 3",
   "language": "python",
   "name": "python3"
  },
  "language_info": {
   "codemirror_mode": {
    "name": "ipython",
    "version": 3
   },
   "file_extension": ".py",
   "mimetype": "text/x-python",
   "name": "python",
   "nbconvert_exporter": "python",
   "pygments_lexer": "ipython3",
   "version": "3.7.3"
  }
 },
 "nbformat": 4,
 "nbformat_minor": 2
}
